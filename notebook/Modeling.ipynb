{
 "cells": [
  {
   "cell_type": "markdown",
   "metadata": {
    "id": "oY73NT7_BsDw"
   },
   "source": [
    "# Twitter Sentiment Analysis - Comparing Navie Bayesian VS RNN-LSTM"
   ]
  },
  {
   "cell_type": "markdown",
   "metadata": {
    "id": "bSsjxTA_BsD4"
   },
   "source": [
    "### **Table of Content:**\n",
    "\n",
    " 1. [Import Preprocessed Dataset](#head-1)\n",
    " 2. [Naive Bayesian Model](#head-2)  \n",
    "  2.1. [Splitting the Data](#head-2-1)  \n",
    "  2.2. [Training the Model](#head-2-2)  \n",
    "  2.3. [Testing the Model](#head-2-3)  \n",
    "  2.4. [Asserting the Model](#head-2-4)    \n",
    " 3. [Deep Learning Model - LSTM](#head-3)  \n",
    "  3.1. [Data Pre-processing](#head-3-1)  \n",
    "&nbsp;&nbsp;&nbsp;&nbsp;3.1.1. [Word Embeddings](#head-3-1-1)  \n",
    "&nbsp;&nbsp;&nbsp;&nbsp;3.1.2. [Global Vectors for Word Representation (GloVe)](#head-3-1-2)  \n",
    "&nbsp;&nbsp;&nbsp;&nbsp;3.1.3. [Data Padding](#head-3-1-3)  \n",
    "  3.2. [Data Transformation](#head-3-2)  \n",
    "  3.3. [Building the Model](#head-3-3)  \n",
    "  3.4. [Training the Model](#head-3-4)  \n",
    "  3.5. [Investigating Possibilties to Improve the Model](#head-3-5)  \n",
    "&nbsp;&nbsp;&nbsp;&nbsp;3.5.1. [Regularization - Dropout](#head-3-5-1)  \n",
    "&nbsp;&nbsp;&nbsp;&nbsp;3.5.2. [Inspecting the Data - Unknown Words](#head-3-5-2)  \n",
    "  3.6. [Predicting on Custom Data](#head-3-6)  \n",
    "  3.7. [Inspecting Wrongly Predicted Data](#head-3-7)  \n",
    " 4. [Saving the model](#head-4)\n",
    " 5. [Further Work](#head-5)"
   ]
  },
  {
   "cell_type": "markdown",
   "metadata": {
    "id": "GM_3papeBsD5"
   },
   "source": [
    "# 1. Importing Preprocessed Dataset <a class=\"anchor\" id=\"head-1\"></a>"
   ]
  },
  {
   "cell_type": "code",
   "execution_count": null,
   "metadata": {
    "colab": {
     "base_uri": "https://localhost:8080/"
    },
    "id": "3Zzhgp6lBsD6",
    "outputId": "633dfca6-e444-454a-8db4-e6a71133216e"
   },
   "outputs": [
    {
     "name": "stdout",
     "output_type": "stream",
     "text": [
      "The autotime extension is already loaded. To reload it, use:\n",
      "  %reload_ext autotime\n",
      "time: 6.7 ms (started: 2021-04-30 00:00:49 +00:00)\n"
     ]
    }
   ],
   "source": [
    "try:\n",
    "    %load_ext autotime\n",
    "except:\n",
    "    !pip install ipython-autotime\n",
    "    %load_ext autotime\n",
    "    \n",
    "from time import time\n",
    "import random\n",
    "\n",
    "import pandas as pd\n",
    "import numpy as np\n",
    "import matplotlib.pyplot as plt"
   ]
  },
  {
   "cell_type": "code",
   "execution_count": null,
   "metadata": {
    "colab": {
     "base_uri": "https://localhost:8080/"
    },
    "id": "FgqDyywRBsD7",
    "outputId": "27a01467-fad3-495a-ec70-bc4cc1996901"
   },
   "outputs": [
    {
     "name": "stdout",
     "output_type": "stream",
     "text": [
      "time: 3.01 s (started: 2021-04-30 00:00:58 +00:00)\n"
     ]
    }
   ],
   "source": [
    "local_file = \"../data/cleaned.npy\"\n",
    "gdrive_file = \"/content/drive/MyDrive/projects/twitter-sentiment-analysis/cleaned.npy\"\n",
    "final_data = np.load(gdrive_file, allow_pickle=True)"
   ]
  },
  {
   "cell_type": "code",
   "execution_count": 23,
   "metadata": {
    "colab": {
     "base_uri": "https://localhost:8080/"
    },
    "id": "iOfZbgD_BsD8",
    "outputId": "23165c28-2cb3-4a66-f283-53f783b8bc20"
   },
   "outputs": [
    {
     "data": {
      "text/plain": [
       "1600000"
      ]
     },
     "execution_count": 23,
     "metadata": {
      "tags": []
     },
     "output_type": "execute_result"
    },
    {
     "name": "stdout",
     "output_type": "stream",
     "text": [
      "time: 3.62 ms (started: 2021-04-30 01:15:11 +00:00)\n"
     ]
    }
   ],
   "source": [
    "len(final_data)"
   ]
  },
  {
   "cell_type": "code",
   "execution_count": null,
   "metadata": {
    "id": "mTO_JGWwBsD8",
    "outputId": "6d2c00b9-6ac3-4000-d5d5-60cebd5b9248"
   },
   "outputs": [
    {
     "data": {
      "text/plain": [
       "array([{'awww': True, \"that's\": True, 'bummer': True, 'shoulda': True, 'get': True, 'david': True, 'carr': True, 'third': True, 'day': True},\n",
       "       0], dtype=object)"
      ]
     },
     "execution_count": 6,
     "metadata": {
      "tags": []
     },
     "output_type": "execute_result"
    }
   ],
   "source": [
    "final_data[0]"
   ]
  },
  {
   "cell_type": "code",
   "execution_count": null,
   "metadata": {
    "colab": {
     "base_uri": "https://localhost:8080/"
    },
    "id": "QXrZBhdIBsD9",
    "outputId": "a2aa63bc-f1a0-48c8-ea19-7c6925b1bd96"
   },
   "outputs": [
    {
     "name": "stdout",
     "output_type": "stream",
     "text": [
      "[nltk_data] Downloading package stopwords to /root/nltk_data...\n",
      "[nltk_data]   Unzipping corpora/stopwords.zip.\n",
      "time: 1.14 s (started: 2021-04-30 00:01:05 +00:00)\n"
     ]
    }
   ],
   "source": [
    "import re, string\n",
    "import nltk\n",
    "nltk.download('stopwords')\n",
    "\n",
    "# Stopwords are frequently-used words (such as “the”, “a”, “an”, “in”) that do not hold any meaning useful to extract sentiment.\n",
    "from nltk.corpus import stopwords\n",
    "STOP_WORDS = stopwords.words('english')\n",
    "\n",
    "# A custom function defined in order to fine-tune the cleaning of the input text. This function is highly dependent on each usecase.\n",
    "# Note: Only include misspelling or abbreviations of commonly used words. Including many minimally present cases would negatively impact the performance. \n",
    "def cleaned(token):\n",
    "    if token == 'u':\n",
    "        return 'you'\n",
    "    if token == 'r':\n",
    "        return 'are'\n",
    "    if token == 'some1':\n",
    "        return 'someone'\n",
    "    if token == 'yrs':\n",
    "        return 'years'\n",
    "    if token == 'hrs':\n",
    "        return 'hours'\n",
    "    if token == 'mins':\n",
    "        return 'minutes'\n",
    "    if token == 'secs':\n",
    "        return 'seconds'\n",
    "    if token == 'pls' or token == 'plz':\n",
    "        return 'please'\n",
    "    if token == '2morow':\n",
    "        return 'tomorrow'\n",
    "    if token == '2day':\n",
    "        return 'today'\n",
    "    if token == '4got' or token == '4gotten':\n",
    "        return 'forget'\n",
    "    if token == 'amp' or token == 'quot' or token == 'lt' or token == 'gt' or token == '½25':\n",
    "        return ''\n",
    "    return token\n",
    "\n",
    "# This function will be our all-in-one noise removal function\n",
    "def remove_noise(tweet_tokens):\n",
    "\n",
    "    cleaned_tokens = []\n",
    "\n",
    "    for token, tag in pos_tag(tweet_tokens):\n",
    "        # Eliminating the token if it is a link\n",
    "        token = re.sub('http[s]?://(?:[a-zA-Z]|[0-9]|[$-_@.&+#]|[!*\\(\\),]|'\\\n",
    "                       '(?:%[0-9a-fA-F][0-9a-fA-F]))+','', token)\n",
    "        # Eliminating the token if it is a mention\n",
    "        token = re.sub(\"(@[A-Za-z0-9_]+)\",\"\", token)\n",
    "\n",
    "        if tag.startswith(\"NN\"):\n",
    "            pos = 'n'\n",
    "        elif tag.startswith('VB'):\n",
    "            pos = 'v'\n",
    "        else:\n",
    "            pos = 'a'\n",
    "\n",
    "        lemmatizer = WordNetLemmatizer()\n",
    "        token = lemmatizer.lemmatize(token, pos)\n",
    "\n",
    "        cleaned_token = cleaned(token.lower())\n",
    "        \n",
    "        # Eliminating the token if its length is less than 3, if it is a punctuation or if it is a stopword\n",
    "        if cleaned_token not in string.punctuation and len(cleaned_token) > 2 and cleaned_token not in STOP_WORDS:\n",
    "            cleaned_tokens.append(cleaned_token)\n",
    "            \n",
    "    return cleaned_tokens"
   ]
  },
  {
   "cell_type": "markdown",
   "metadata": {
    "id": "U1l29pfyBsD-"
   },
   "source": [
    "# 2. Naive Bayesian Model <a class=\"anchor\" id=\"head-2\"></a>"
   ]
  },
  {
   "cell_type": "markdown",
   "metadata": {
    "id": "yE34tWmtBsD_"
   },
   "source": [
    "One of the most commonly used classification models in Natural Language Processing (NLP) is the Naive Bayesian.<br>\n",
    "**Naive Bayesian** classifiers are a collection of classification algorithms based on Bayes’ Theorem. It is not a single algorithm but rather a family of algorithms where all of them make the following *naive* assumptions:\n",
    "* All features are independent from each other.\n",
    "* Every feature contributes equally to the output.\n",
    "\n",
    "In our case, these two assumptions can be interpreted as:\n",
    "* Each word is independent from the other words, no relation between any two words of a given sentence.\n",
    "* Each word contributes equally, throughout all sentences, to the decision of our model, regardless of its relative position in the sentence.\n",
    "\n",
    "<u>Example:</u> \"This is bad\" / \"This is very bad\" or \"Such a kind person\" / \"This kind of chocolate is disgusting\", in both cases the Naive Bayesian classifier would give the same importance for the words 'bad' and 'kind', albeit them having a stronger meaning and a different meaning respectively in first and second sentences.\n",
    "\n",
    "Nevertheless, Naive Bayesian are widely used in NLP and they often output great results.<br>\n",
    "\n",
    "The **Bayes' Theorem** describes the probability of an event $A$, based on prior knowledge of conditions $B$ that might be related to the event:\n",
    "$P(A \\mid B) = \\frac{P(B \\mid A)P(A)}{P(B)}$.<br>\n",
    "In our case, this can be intuitively interpreted as the probability of a tweet being positive, based on prior knowledge of the words inside the input text.\n",
    "In a nutshell, this probability is: the probability of the first word occuring in a positive tweet, times, the probability of the second word occuring in a positive tweet, ..., times, the probability of a tweet being positive. This can be mathematically written as: $P(A \\mid B) \\propto P(B_1 \\mid A)\\times P(B_2 \\mid A)  \\times  \\cdot \\cdot \\cdot  \\times  P(B_n \\mid A)\\times P(A)$."
   ]
  },
  {
   "cell_type": "markdown",
   "metadata": {
    "id": "FAxtun-vBsEA"
   },
   "source": [
    "## 2.1. Splitting the Data <a class=\"anchor\" id=\"head-2-1\"></a>"
   ]
  },
  {
   "cell_type": "markdown",
   "metadata": {
    "id": "2QfMiOsVBsEA"
   },
   "source": [
    "First, we need to split our data into two sets: Training and Testing sets.<br>"
   ]
  },
  {
   "cell_type": "code",
   "execution_count": null,
   "metadata": {
    "id": "08qTshxEBsED"
   },
   "outputs": [],
   "source": [
    "random.Random(99).shuffle(final_data)\n",
    "\n",
    "# I split the data as 80% train data and 20% test data\n",
    "trim_index = int(len(final_data) * 0.8)\n",
    "\n",
    "train_data = final_data[:trim_index]\n",
    "test_data = final_data[trim_index:]"
   ]
  },
  {
   "cell_type": "markdown",
   "metadata": {
    "id": "speLWPoCBsED"
   },
   "source": [
    "## 2.2. Training the Model <a class=\"anchor\" id=\"head-2-2\"></a>"
   ]
  },
  {
   "cell_type": "markdown",
   "metadata": {
    "id": "HB_nd71yBsED"
   },
   "source": [
    "Now it's time to train our model on our training data."
   ]
  },
  {
   "cell_type": "code",
   "execution_count": null,
   "metadata": {
    "id": "If0hjMZABsEE",
    "outputId": "651d0385-bf3b-44a3-a95d-2dac63db8808"
   },
   "outputs": [
    {
     "name": "stdout",
     "output_type": "stream",
     "text": [
      "Accuracy on train data: 0.9300671875\n",
      "Accuracy on test data: 0.6442375\n",
      "Most Informative Features\n",
      "                     nks = True                1 : 0      =    102.0 : 1.0\n",
      "                    dmed = True                1 : 0      =     56.7 : 1.0\n",
      "                timeless = True                1 : 0      =     56.7 : 1.0\n",
      "                  thanxx = True                1 : 0      =     56.7 : 1.0\n",
      "                  reblip = True                1 : 0      =     56.7 : 1.0\n",
      "               giveaways = True                1 : 0      =     56.7 : 1.0\n",
      "                  hearty = True                1 : 0      =     52.1 : 1.0\n",
      "                familyyy = True                1 : 0      =     49.1 : 1.0\n",
      "                 touchin = True                1 : 0      =     49.1 : 1.0\n",
      "                   vinny = True                1 : 0      =     49.1 : 1.0\n",
      "               pakistani = True                1 : 0      =     41.6 : 1.0\n",
      "                 paaarty = True                1 : 0      =     41.6 : 1.0\n",
      "              vegetables = True                1 : 0      =     41.6 : 1.0\n",
      "                  gander = True                1 : 0      =     41.6 : 1.0\n",
      "                velocity = True                1 : 0      =     41.6 : 1.0\n",
      "                     fbr = True                1 : 0      =     41.6 : 1.0\n",
      "                hysteria = True                1 : 0      =     41.6 : 1.0\n",
      "                 loveddd = True                1 : 0      =     41.6 : 1.0\n",
      "          teleconference = True                1 : 0      =     41.6 : 1.0\n",
      "             accountable = True                1 : 0      =     41.6 : 1.0\n",
      "None\n",
      "time: 1min 38s\n"
     ]
    }
   ],
   "source": [
    "from nltk import classify\n",
    "from nltk import NaiveBayesClassifier\n",
    "classifier = NaiveBayesClassifier.train(train_data)\n",
    "\n",
    "# Output the model accuracy on the train and test data\n",
    "print('Accuracy on train data:', classify.accuracy(classifier, train_data))\n",
    "print('Accuracy on test data:', classify.accuracy(classifier, test_data))\n",
    "\n",
    "# Output the words that provide the most information about the sentiment of a tweet.\n",
    "# These are words that are heavily present in one sentiment group and very rarely present in the other group.\n",
    "print(classifier.show_most_informative_features(20))"
   ]
  },
  {
   "cell_type": "markdown",
   "metadata": {
    "id": "6RKzj86jBsEE"
   },
   "source": [
    "We achived 93% accuracy on the train set, while 64% on the testing set, which is clearly an overffiting model.\n",
    "\n",
    "Taking a look at the 20 most informative features of the model, we can notice the high volume of positive to negative (1:0) informative features. This is very interesting as it means that positive tweets have a much more concentrated and limited vocabulary when compared to negative tweets."
   ]
  },
  {
   "cell_type": "markdown",
   "metadata": {
    "id": "eYm8_kxsBsEF"
   },
   "source": [
    "## 2.3. Testing the Model <a class=\"anchor\" id=\"head-2-3\"></a>"
   ]
  },
  {
   "cell_type": "markdown",
   "metadata": {
    "id": "FcO0RW87BsEF"
   },
   "source": [
    "Now that our classifier is built, we can have fun and test it with custom tweets!"
   ]
  },
  {
   "cell_type": "code",
   "execution_count": null,
   "metadata": {
    "id": "elu19qmkBsEF",
    "outputId": "a2b80262-0aab-40a4-c296-a78b2f4266c6"
   },
   "outputs": [
    {
     "name": "stdout",
     "output_type": "stream",
     "text": [
      "time: 0 ns\n"
     ]
    }
   ],
   "source": [
    "from nltk.tokenize import TweetTokenizer\n",
    "# The reduce_len parameter will allow a maximum of 3 consecutive repeating characters, while trimming the rest\n",
    "# For example, it will tranform the word: 'Helloooooooooo' to: 'Hellooo'\n",
    "tk = TweetTokenizer(reduce_len=True)\n",
    "\n",
    "from nltk.tag import pos_tag\n",
    "from nltk.stem.wordnet import WordNetLemmatizer"
   ]
  },
  {
   "cell_type": "code",
   "execution_count": null,
   "metadata": {
    "id": "w0jrLjz5BsEF",
    "outputId": "4f9b3ec3-e56c-4297-ffda-9e751c037ba0"
   },
   "outputs": [
    {
     "name": "stdout",
     "output_type": "stream",
     "text": [
      "0\n",
      "time: 16 ms\n"
     ]
    }
   ],
   "source": [
    "custom_tweet = \"They screwed up, never used the app again.\"\n",
    "\n",
    "custom_tokens = remove_noise(tk.tokenize(custom_tweet))\n",
    "\n",
    "print(classifier.classify(dict([token, True] for token in custom_tokens)))"
   ]
  },
  {
   "cell_type": "code",
   "execution_count": null,
   "metadata": {
    "id": "TaBxn2K-BsEG",
    "outputId": "abf1fcda-8cff-43c9-8a09-2133947277ec"
   },
   "outputs": [
    {
     "name": "stdout",
     "output_type": "stream",
     "text": [
      "1\n",
      "time: 0 ns\n"
     ]
    }
   ],
   "source": [
    "custom_tweet = \"I loved the show today! It was amazing and a wonderful day.\"\n",
    "\n",
    "custom_tokens = remove_noise(tk.tokenize(custom_tweet))\n",
    "\n",
    "print(classifier.classify(dict([token, True] for token in custom_tokens)))"
   ]
  },
  {
   "cell_type": "code",
   "execution_count": null,
   "metadata": {
    "id": "64ui9hfTBsEG",
    "outputId": "df2c0ff5-90ad-4c34-9860-8f0705d0a6e7"
   },
   "outputs": [
    {
     "name": "stdout",
     "output_type": "stream",
     "text": [
      "0\n",
      "time: 0 ns\n"
     ]
    }
   ],
   "source": [
    "custom_tweet = \"No idea\"\n",
    "\n",
    "custom_tokens = remove_noise(tk.tokenize(custom_tweet))\n",
    "\n",
    "print(classifier.classify(dict([token, True] for token in custom_tokens)))"
   ]
  },
  {
   "cell_type": "code",
   "execution_count": null,
   "metadata": {
    "id": "Ok0ODlxaBsEG",
    "outputId": "3c9e492b-2b0b-4d84-81ec-75064cb6902e"
   },
   "outputs": [
    {
     "name": "stdout",
     "output_type": "stream",
     "text": [
      "0\n",
      "time: 0 ns\n"
     ]
    }
   ],
   "source": [
    "custom_tweet = \"Good\"\n",
    "\n",
    "custom_tokens = remove_noise(tk.tokenize(custom_tweet))\n",
    "\n",
    "print(classifier.classify(dict([token, True] for token in custom_tokens)))"
   ]
  },
  {
   "cell_type": "code",
   "execution_count": null,
   "metadata": {
    "id": "14_pWzyiBsEH",
    "outputId": "decc8800-f393-4195-92ca-339920bce945"
   },
   "outputs": [
    {
     "name": "stdout",
     "output_type": "stream",
     "text": [
      "0\n",
      "time: 0 ns\n"
     ]
    }
   ],
   "source": [
    "custom_tweet = \"Not good\"\n",
    "\n",
    "custom_tokens = remove_noise(tk.tokenize(custom_tweet))\n",
    "\n",
    "print(classifier.classify(dict([token, True] for token in custom_tokens)))"
   ]
  },
  {
   "cell_type": "code",
   "execution_count": null,
   "metadata": {
    "id": "a8LfKjSNBsEH",
    "outputId": "f74148b7-e2cb-4265-8afc-984535a11459"
   },
   "outputs": [
    {
     "name": "stdout",
     "output_type": "stream",
     "text": [
      "0\n",
      "time: 15 ms\n"
     ]
    }
   ],
   "source": [
    "custom_tweet = \"The reward for good work is more work!\"\n",
    "\n",
    "custom_tokens = remove_noise(tk.tokenize(custom_tweet))\n",
    "\n",
    "print(classifier.classify(dict([token, True] for token in custom_tokens)))"
   ]
  },
  {
   "cell_type": "markdown",
   "metadata": {
    "id": "aBM86mTkBsEH"
   },
   "source": [
    "It is worth mentioning one more weakness of such a model: it does not generalize well."
   ]
  },
  {
   "cell_type": "markdown",
   "metadata": {
    "id": "-75hRPzDBsEI"
   },
   "source": [
    "## 2.4. Asserting the Model <a class=\"anchor\" id=\"head-2-4\"></a> "
   ]
  },
  {
   "cell_type": "markdown",
   "metadata": {
    "id": "GZpXStKWBsEI"
   },
   "source": [
    "Finally, let's further assert our model by plotting the AUC and the confusion matrix of the model."
   ]
  },
  {
   "cell_type": "code",
   "execution_count": null,
   "metadata": {
    "id": "2DpO0nxDBsEI",
    "outputId": "437d9bf7-e06b-46db-8fd2-513228d82714"
   },
   "outputs": [
    {
     "name": "stdout",
     "output_type": "stream",
     "text": [
      "320000 320000\n",
      "AUC: 0.830\n",
      "time: 14.2 s\n"
     ]
    }
   ],
   "source": [
    "from sklearn import metrics\n",
    "\n",
    "# Storing all desired values in a list\n",
    "y = [test_data[i][1] for i in range(len(test_data))]\n",
    "# Storing all probabilities of having a positive sentiment in a list\n",
    "probs = [classifier.prob_classify(test_data[i][0]).prob(1) for i in range(len(test_data))]\n",
    "\n",
    "# Making sure both values a re equal\n",
    "print(len(y), len(probs))\n",
    "\n",
    "# performing the roc curve calculations\n",
    "fpr, tpr, thresholds = metrics.roc_curve(y, probs)\n",
    "\n",
    "# Printing the Area Under Curve (AUC) of the ROC curve (the closer to 1, the better)\n",
    "auc = metrics.roc_auc_score(y, probs)\n",
    "print('AUC: %.3f' % auc)"
   ]
  },
  {
   "cell_type": "code",
   "execution_count": null,
   "metadata": {
    "id": "n2ijU8myBsEJ",
    "outputId": "94c4e173-77a9-480d-8f6a-efa0d18331c9"
   },
   "outputs": [
    {
     "data": {
      "image/png": "[encoded data removed]",
      "text/plain": [
       "<Figure size 360x360 with 1 Axes>"
      ]
     },
     "metadata": {
      "needs_background": "light",
      "tags": []
     },
     "output_type": "display_data"
    },
    {
     "name": "stdout",
     "output_type": "stream",
     "text": [
      "time: 281 ms\n"
     ]
    }
   ],
   "source": [
    "# Plotting the ROC Curve\n",
    "plt.figure(figsize=(5,5))\n",
    "plt.plot([0, 1], [0, 1], 'k--')\n",
    "plt.plot(fpr, tpr, label='NB')\n",
    "plt.xlabel('fpr')\n",
    "plt.ylabel('tpr')\n",
    "plt.title('Naive Bayesian ROC curve')\n",
    "plt.show()"
   ]
  },
  {
   "cell_type": "code",
   "execution_count": null,
   "metadata": {
    "id": "JHwY77KmBsEJ",
    "outputId": "e6a7032b-3d29-415f-a180-a1d1ecb14315"
   },
   "outputs": [
    {
     "data": {
      "text/html": [
       "<div>\n",
       "<style scoped>\n",
       "    .dataframe tbody tr th:only-of-type {\n",
       "        vertical-align: middle;\n",
       "    }\n",
       "\n",
       "    .dataframe tbody tr th {\n",
       "        vertical-align: top;\n",
       "    }\n",
       "\n",
       "    .dataframe thead th {\n",
       "        text-align: right;\n",
       "    }\n",
       "</style>\n",
       "<table border=\"1\" class=\"dataframe\">\n",
       "  <thead>\n",
       "    <tr style=\"text-align: right;\">\n",
       "      <th>Predicted</th>\n",
       "      <th>0</th>\n",
       "      <th>1</th>\n",
       "      <th>All</th>\n",
       "    </tr>\n",
       "    <tr>\n",
       "      <th>Actual</th>\n",
       "      <th></th>\n",
       "      <th></th>\n",
       "      <th></th>\n",
       "    </tr>\n",
       "  </thead>\n",
       "  <tbody>\n",
       "    <tr>\n",
       "      <th>0</th>\n",
       "      <td>173874</td>\n",
       "      <td>4536</td>\n",
       "      <td>178410</td>\n",
       "    </tr>\n",
       "    <tr>\n",
       "      <th>1</th>\n",
       "      <td>109308</td>\n",
       "      <td>32282</td>\n",
       "      <td>141590</td>\n",
       "    </tr>\n",
       "    <tr>\n",
       "      <th>All</th>\n",
       "      <td>283182</td>\n",
       "      <td>36818</td>\n",
       "      <td>320000</td>\n",
       "    </tr>\n",
       "  </tbody>\n",
       "</table>\n",
       "</div>"
      ],
      "text/plain": [
       "Predicted       0      1     All\n",
       "Actual                          \n",
       "0          173874   4536  178410\n",
       "1          109308  32282  141590\n",
       "All        283182  36818  320000"
      ]
     },
     "execution_count": 36,
     "metadata": {
      "tags": []
     },
     "output_type": "execute_result"
    },
    {
     "name": "stdout",
     "output_type": "stream",
     "text": [
      "time: 14.5 s\n"
     ]
    }
   ],
   "source": [
    "# Creating a confusion matrix (this specific confusion matrix function accepts numpy arrays rather than python lists)\n",
    "\n",
    "probs = [classifier.classify(test_data[i][0]) for i in range(len(test_data))]\n",
    "y = np.asarray(y)\n",
    "probs = np.asarray(probs)\n",
    "pd.crosstab(y, probs, rownames=['Actual'], colnames=['Predicted'], margins=True)"
   ]
  },
  {
   "cell_type": "markdown",
   "metadata": {
    "id": "-IMUStx0BsEK"
   },
   "source": [
    "# 3. Deep Learning Model - LSTM <a class=\"anchor\" id=\"head-3\"></a>"
   ]
  },
  {
   "cell_type": "markdown",
   "metadata": {
    "id": "S2fVEjMrBsEK"
   },
   "source": [
    "**Deep Learning** is a very rapidly growing field, that is proving to be extremely beneficial in various scenarios. One of those scenarios is the ability to process text data in a much more complex and powerful manner. In this section, I will be focusing on implementing a Deep Learning model that will successfully tackle and solve the above mentioned shortcomings of the Naive Bayes model, such as the lack of relationship between words in a sentence and the poor generalization on previously unseen data."
   ]
  },
  {
   "cell_type": "markdown",
   "metadata": {
    "id": "sm5N1IOyBsEK"
   },
   "source": [
    "A **L**ong **S**hort-**T**erm **M**emory, or **LSTM**, is a type of machine learning neural networks. More specifically, it belongs to the family of **R**ecurrent **N**eural **N**etwords (**RNN**) in Deep Learning, which are specifically conceived in order to process *temporal data*. Temporal data is defined as data that is highly influenced by the order that it is presented in. This means that data coming before or after a given datum (singular for *data*) can greatly affect this datum. Text data is an example of temporal data. For example, let's consider the following sentence:\n",
    "\n",
    ">*Jane is not very happy. She's still mad at you!*\n",
    "\n",
    "In the above sentence, the word *not* greatly influences the meaning of the upcoming words *very happy*. Also, we used the word *she* as we are speaking about a female subject."
   ]
  },
  {
   "cell_type": "markdown",
   "metadata": {
    "id": "SNxpI8kWBsEK"
   },
   "source": [
    "## 3.1. Data Pre-processing <a class=\"anchor\" id=\"head-3-1\"></a>"
   ]
  },
  {
   "cell_type": "markdown",
   "metadata": {
    "id": "FD_73uAXBsEK"
   },
   "source": [
    "In order to feed our text data to our LSTM model, we'll have to go through several extra preprocessing steps.\n",
    "\n",
    "Most neural networks expect *numbers* as inputs. Thus, we'll have to convert our *text* data to *numerical* data.\n",
    "\n",
    "One way of doing so would be the following: collect all possible words in our dataset and generate a *dictionary* containing all unique words in our text corpus, then sort all of these words alphabetically and assign to each word an *index*. So for example, let's say our dictionary's length turned out to be 100,000 words. The word \"a\" would be assigned the index 0, the word \"aaron\" would be assigned the index 1, and so on, until we reach the last word in our dictionary, say \"zulu\", and assign to it the index 99,999.\n",
    "\n",
    "It turns out that this step alone is not enough to be able to train good Deep Learning models. If you think about it, when the model reads an input #20,560 and then another input #20,561 for example, it would assume that these values are \"close\". However, those inputs could be the indexes of totally unrelated words, such as \"cocktail\" and \"code\", appearing right next to each  other in the sorted dictionary.\n",
    "\n",
    "For producing more meaningful represetnation of the words, we can use word embedding techniques.\n",
    "\n",
    "----------"
   ]
  },
  {
   "cell_type": "markdown",
   "metadata": {
    "id": "iyg4jMeuBsEL"
   },
   "source": [
    "### 3.1.1. Word Embeddings <a class=\"anchor\" id=\"head-3-1-1\"></a>"
   ]
  },
  {
   "cell_type": "markdown",
   "metadata": {
    "id": "0ChOpUZHBsEL"
   },
   "source": [
    "Word embeddings are basically a way for us to convert words to *representational vectors*. What I mean by this is that, instead of mapping each word to an index, we want to map each word to a vector of real numbers, representing this word.\n",
    "\n",
    "The goal here is to be able to generate similar or close representational vectors for words that have similar meaning. For example, when feeding the words \"excited\" and \"thrilled\" to the word embedding model, we would like the model to output \"close\" representations for both words. Whereas if we feed the words \"excited\" and \"Java\", we would like the model to output \"far\" representations for both words."
   ]
  },
  {
   "cell_type": "markdown",
   "metadata": {
    "id": "RtOJJJgvBsEL"
   },
   "source": [
    "### 3.1.2. Global Vectors for Word Representation (GloVe) <a class=\"anchor\" id=\"head-3-1-2\"></a>"
   ]
  },
  {
   "cell_type": "markdown",
   "metadata": {
    "id": "Q1HwET9pBsEL"
   },
   "source": [
    "For building a word embedding we can use the library GloVe, it's robust and accuate. Alternative choice is word2vec, which is also very popular.\n",
    "\n",
    "For this step, go to: GloVe official Repository to download the Wikipedia 2014 + Gigaword 5 https://github.com/stanfordnlp/GloVe\n",
    "\n",
    "Note: the file is fairly large (800MB ~), but this is already the smallest trained model"
   ]
  },
  {
   "cell_type": "code",
   "execution_count": null,
   "metadata": {
    "colab": {
     "base_uri": "https://localhost:8080/"
    },
    "id": "xD5I_-apBsEM",
    "outputId": "52ecbcf4-7c3c-4f17-a2b4-b8f87358857c"
   },
   "outputs": [
    {
     "name": "stdout",
     "output_type": "stream",
     "text": [
      "time: 7.7 ms (started: 2021-04-30 00:01:10 +00:00)\n"
     ]
    }
   ],
   "source": [
    "# Defining a handy function in order to load a given glove file\n",
    "\n",
    "def read_glove_vecs(glove_file):\n",
    "    with open(glove_file, 'r', encoding=\"utf8\") as f:\n",
    "        words = set()\n",
    "        word_to_vec_map = {}\n",
    "        for line in f:\n",
    "            line = line.strip().split()\n",
    "            curr_word = line[0]\n",
    "            words.add(curr_word)\n",
    "            word_to_vec_map[curr_word] = np.array(line[1:], dtype=np.float64)\n",
    "        \n",
    "        i = 1\n",
    "        words_to_index = {}\n",
    "        index_to_words = {}\n",
    "        for w in sorted(words):\n",
    "            words_to_index[w] = i\n",
    "            index_to_words[i] = w\n",
    "            i = i + 1\n",
    "    return words_to_index, index_to_words, word_to_vec_map"
   ]
  },
  {
   "cell_type": "markdown",
   "metadata": {
    "id": "aAluJJTuBsEM"
   },
   "source": [
    "GloVe embeddings come in various flavors. They basically differ depending on the type of data they were trained on, the length of the vocabulary, the size of the representational vectors and so on.\n",
    "\n",
    "We've previously downloaded GloVe vectors trained on 6 Billion tokens and having a dictionary, or *vocabulary*, size of 400,001 unique words. Then we will load the vectors that are 50-dimensional."
   ]
  },
  {
   "cell_type": "code",
   "execution_count": null,
   "metadata": {
    "colab": {
     "base_uri": "https://localhost:8080/"
    },
    "id": "_u339HbUBsEM",
    "outputId": "c8e9f907-3e20-4a14-c38a-5f04d827f9dd"
   },
   "outputs": [
    {
     "name": "stdout",
     "output_type": "stream",
     "text": [
      "time: 7.66 s (started: 2021-04-30 00:01:13 +00:00)\n"
     ]
    }
   ],
   "source": [
    "# Loading the 50-dimensional GloVe embeddings\n",
    "# This method will return three dictionaries:\n",
    "# * word_to_index: a dictionary mapping from words to their indices in the vocabulary\n",
    "# * index_to_word: dictionary mapping from indices to their corresponding words in the vocabulary\n",
    "# * word_to_vec_map: dictionary mapping words to their GloVe vector representation\n",
    "# Note that there are 400,001 words, with the valid indices ranging from 0 to 400,000\n",
    "\n",
    "glove_local_path = '../data/glove.6B.50d.txt'\n",
    "glove_gdrive_path = \"/content/drive/MyDrive/projects/twitter-sentiment-analysis/glove.6B.50d.txt\"\n",
    "word_to_index, index_to_word, word_to_vec_map = read_glove_vecs(glove_gdrive_path)"
   ]
  },
  {
   "cell_type": "code",
   "execution_count": null,
   "metadata": {
    "id": "t0_sCF7gBsEM",
    "outputId": "f262e6de-09dc-4e08-9250-073b3989304f",
    "scrolled": true
   },
   "outputs": [
    {
     "data": {
      "text/plain": [
       "176469"
      ]
     },
     "execution_count": 15,
     "metadata": {
      "tags": []
     },
     "output_type": "execute_result"
    },
    {
     "name": "stdout",
     "output_type": "stream",
     "text": [
      "time: 15 ms\n"
     ]
    }
   ],
   "source": [
    "word_to_index['hello']"
   ]
  },
  {
   "cell_type": "code",
   "execution_count": null,
   "metadata": {
    "id": "A2VNOcnJBsEN",
    "outputId": "e7755f44-a094-4347-bdc2-c9004fd32b5b",
    "scrolled": true
   },
   "outputs": [
    {
     "data": {
      "text/plain": [
       "array([-0.38497 ,  0.80092 ,  0.064106, -0.28355 , -0.026759, -0.34532 ,\n",
       "       -0.64253 , -0.11729 , -0.33257 ,  0.55243 , -0.087813,  0.9035  ,\n",
       "        0.47102 ,  0.56657 ,  0.6985  , -0.35229 , -0.86542 ,  0.90573 ,\n",
       "        0.03576 , -0.071705, -0.12327 ,  0.54923 ,  0.47005 ,  0.35572 ,\n",
       "        1.2611  , -0.67581 , -0.94983 ,  0.68666 ,  0.3871  , -1.3492  ,\n",
       "        0.63512 ,  0.46416 , -0.48814 ,  0.83827 , -0.9246  , -0.33722 ,\n",
       "        0.53741 , -1.0616  , -0.081403, -0.67111 ,  0.30923 , -0.3923  ,\n",
       "       -0.55002 , -0.68827 ,  0.58049 , -0.11626 ,  0.013139, -0.57654 ,\n",
       "        0.048833,  0.67204 ])"
      ]
     },
     "execution_count": 16,
     "metadata": {
      "tags": []
     },
     "output_type": "execute_result"
    },
    {
     "name": "stdout",
     "output_type": "stream",
     "text": [
      "time: 15 ms\n"
     ]
    }
   ],
   "source": [
    "word_to_vec_map['hello']"
   ]
  },
  {
   "cell_type": "markdown",
   "metadata": {
    "id": "8FCyNOV8BsEN"
   },
   "source": [
    "As this word embedding only considers 400,000 unique words, it might encounter words it has never seen before.\n",
    "\n",
    "In order to overcome such scenarios, word embeddings reserve an extra spot for \"unknown\" words, also denoted with the keyword **unk**."
   ]
  },
  {
   "cell_type": "code",
   "execution_count": null,
   "metadata": {
    "id": "xzf91LB4jU7X",
    "outputId": "ef261d20-285e-40c1-eaaa-92233cd40c58"
   },
   "outputs": [
    {
     "data": {
      "text/plain": [
       "372307"
      ]
     },
     "execution_count": 17,
     "metadata": {
      "tags": []
     },
     "output_type": "execute_result"
    },
    {
     "name": "stdout",
     "output_type": "stream",
     "text": [
      "time: 0 ns\n"
     ]
    }
   ],
   "source": [
    "word_to_index['unk']"
   ]
  },
  {
   "cell_type": "markdown",
   "metadata": {
    "id": "oFFTypYeBsEN"
   },
   "source": [
    "When calculating the difference between each words, we used cosine similarity. Below is a short example of the usage of the cosine similarity in order to find correlations in the data.\n",
    "\n",
    "We can observe that the words *cucumber* and *tomato* are highly positively similar. Whereas the words *cucumber* and *phone* are not related at all, having a close to 0 similarity measure.\n",
    "\n",
    "> Note that the cosine similarity return values between -1 and +1, where **-1** denote completely opposite meanings, **+1** denote completely identical meanings and **0** denote totally unrelated meanings."
   ]
  },
  {
   "cell_type": "code",
   "execution_count": null,
   "metadata": {
    "colab": {
     "base_uri": "https://localhost:8080/"
    },
    "id": "974daniMBsEO",
    "outputId": "48090047-df5e-4ebf-d94a-ef62b89b2ee5"
   },
   "outputs": [
    {
     "name": "stdout",
     "output_type": "stream",
     "text": [
      "time: 4.88 ms (started: 2021-04-30 00:01:20 +00:00)\n"
     ]
    }
   ],
   "source": [
    "def cosine_similarity(u, v):\n",
    "    dot = np.dot(u, v)\n",
    "    norm_u = np.sqrt(np.sum(u**2))\n",
    "    norm_v = np.sqrt(np.sum(v**2))\n",
    "    cosine_similarity = dot / (norm_u * norm_v)\n",
    "    return cosine_similarity"
   ]
  },
  {
   "cell_type": "code",
   "execution_count": null,
   "metadata": {
    "id": "1kJ6DZ19BsEO",
    "outputId": "4e5f1a87-4a06-4ba6-dc86-ea7660ef8eb0"
   },
   "outputs": [
    {
     "data": {
      "text/plain": [
       "0.8632714714841137"
      ]
     },
     "execution_count": 19,
     "metadata": {
      "tags": []
     },
     "output_type": "execute_result"
    },
    {
     "name": "stdout",
     "output_type": "stream",
     "text": [
      "time: 0 ns\n"
     ]
    }
   ],
   "source": [
    "cosine_similarity(word_to_vec_map['cucumber'], word_to_vec_map['tomato'])"
   ]
  },
  {
   "cell_type": "code",
   "execution_count": null,
   "metadata": {
    "id": "IFa-WpvQBsEO",
    "outputId": "3fd9255e-f4ba-4f59-d579-212d5023557f"
   },
   "outputs": [
    {
     "data": {
      "text/plain": [
       "-0.012485506721235948"
      ]
     },
     "execution_count": 20,
     "metadata": {
      "tags": []
     },
     "output_type": "execute_result"
    },
    {
     "name": "stdout",
     "output_type": "stream",
     "text": [
      "time: 0 ns\n"
     ]
    }
   ],
   "source": [
    "cosine_similarity(word_to_vec_map['cucumber'], word_to_vec_map['phone'])"
   ]
  },
  {
   "cell_type": "markdown",
   "metadata": {
    "id": "dZNWIcjnBsEO"
   },
   "source": [
    "### 3.1.3. Data Padding  <a class=\"anchor\" id=\"head-3-1-3\"></a>"
   ]
  },
  {
   "cell_type": "markdown",
   "metadata": {
    "id": "nIJvGTC6BsEP"
   },
   "source": [
    "Further in our training we would like to speed the process up by splitting data into *mini-batches*. Batch learning is basically the process of training on several examples at the same time, which greatly decreases the training time!\n",
    "\n",
    "However, and in order to be able to utilize batch learning, keras (and similarly to most machine learning frameworks) requires all data within the same batch to have the same length or *dimension*. Whereas in our text data, each example could have a variable sentence length. In order to overcome this issue, we will go over all of our data, and calculate the length of the longest phrase (in terms of words). Then, we will 0-pad all of the data sequences so that they will all have the same *max_len* calculated."
   ]
  },
  {
   "cell_type": "markdown",
   "metadata": {
    "id": "8-swnO_4BsEP"
   },
   "source": [
    "## 3.2. Data Transformation <a class=\"anchor\" id=\"head-3-2\"></a>"
   ]
  },
  {
   "cell_type": "code",
   "execution_count": null,
   "metadata": {
    "colab": {
     "base_uri": "https://localhost:8080/"
    },
    "id": "ftAO617fBsEP",
    "outputId": "06bb0436-5c5a-43e2-ae25-fa0cbf9ba587"
   },
   "outputs": [
    {
     "name": "stdout",
     "output_type": "stream",
     "text": [
      "time: 4.57 s (started: 2021-04-30 00:01:23 +00:00)\n"
     ]
    }
   ],
   "source": [
    "# remove label for transformation\n",
    "cleaned_tokens_list = [(list(sent[0]), sent[1]) for sent in final_data]"
   ]
  },
  {
   "cell_type": "code",
   "execution_count": null,
   "metadata": {
    "id": "EmMw_p6DBsEP",
    "outputId": "7ed7f556-c30e-4bc5-98eb-8b7e88d6efe2"
   },
   "outputs": [
    {
     "data": {
      "text/plain": [
       "(['awww',\n",
       "  \"that's\",\n",
       "  'bummer',\n",
       "  'shoulda',\n",
       "  'get',\n",
       "  'david',\n",
       "  'carr',\n",
       "  'third',\n",
       "  'day'],\n",
       " 0)"
      ]
     },
     "execution_count": 7,
     "metadata": {
      "tags": []
     },
     "output_type": "execute_result"
    },
    {
     "name": "stdout",
     "output_type": "stream",
     "text": [
      "time: 0 ns\n"
     ]
    }
   ],
   "source": [
    "cleaned_tokens_list[0]"
   ]
  },
  {
   "cell_type": "code",
   "execution_count": null,
   "metadata": {
    "colab": {
     "base_uri": "https://localhost:8080/"
    },
    "id": "plIFObh4jYJV",
    "outputId": "ec4e48e7-3bd0-44e5-a2fe-9cb19963a55a"
   },
   "outputs": [
    {
     "name": "stdout",
     "output_type": "stream",
     "text": [
      "max_len: 25\n",
      "[[ 64416. 372307.  86732. 329918. 160419. 117721.  92607. 358030. 117875.\n",
      "       0.      0.      0.      0.      0.      0.      0.      0.      0.\n",
      "       0.      0.      0.      0.      0.      0.      0.]\n",
      " [373562. 372307. 373376. 143883. 356843.    868. 243978. 112844. 306709.\n",
      "  321161. 361081.  52521.  77742.      0.      0.      0.      0.      0.\n",
      "       0.      0.      0.      0.      0.      0.      0.]\n",
      " [125957. 233709. 359890.  67288. 232573. 319419. 306582.  81902.      0.\n",
      "       0.      0.      0.      0.      0.      0.      0.      0.      0.\n",
      "       0.      0.      0.      0.      0.      0.      0.]\n",
      " [386898.  79377. 146345. 193827. 222472. 148729.      0.      0.      0.\n",
      "       0.      0.      0.      0.      0.      0.      0.      0.      0.\n",
      "       0.      0.      0.      0.      0.      0.      0.]\n",
      " [ 72017. 372307. 229754. 372307. 323338.      0.      0.      0.      0.\n",
      "       0.      0.      0.      0.      0.      0.      0.      0.      0.\n",
      "       0.      0.      0.      0.      0.      0.      0.]]\n",
      "[0. 0. 0. 0. 0.]\n",
      "time: 6.87 s (started: 2021-04-30 00:01:28 +00:00)\n"
     ]
    }
   ],
   "source": [
    "unks = []\n",
    "UNKS = []\n",
    "\n",
    "# This function will act as a \"last resort\" in order to try and find the word\n",
    "# in the words embedding layer. It will basically eliminate contiguously occuring such as \"looool\" -> \"lol\"\n",
    "# instances of a similar character\n",
    "def cleared(word):\n",
    "    res = \"\"\n",
    "    prev = None\n",
    "    for char in word:\n",
    "        if char == prev: continue\n",
    "        prev = char\n",
    "        res += char\n",
    "    return res\n",
    "\n",
    "\n",
    "def sentence_to_indices(sentence_words, word_to_index, max_len, i):\n",
    "    global X, Y\n",
    "    sentence_indices = []\n",
    "    for j, w in enumerate(sentence_words):\n",
    "        try:\n",
    "            index = word_to_index[w]\n",
    "        except:\n",
    "            UNKS.append(w)\n",
    "            w = cleared(w)\n",
    "            try:\n",
    "                index = word_to_index[w]\n",
    "            except:\n",
    "                index = word_to_index['unk']\n",
    "                unks.append(w)\n",
    "        X[i, j] = index\n",
    "\n",
    "        \n",
    "# Here we will utilize the already computed 'cleaned_tokens_list' variable\n",
    "list_len = [len(i) for i, j in cleaned_tokens_list]\n",
    "max_len = max(list_len)\n",
    "print('max_len:', max_len)\n",
    "\n",
    "X = np.zeros((len(cleaned_tokens_list), max_len))\n",
    "Y = np.zeros((len(cleaned_tokens_list), ))\n",
    "\n",
    "for i, tk_lb in enumerate(cleaned_tokens_list):\n",
    "    tokens, label = tk_lb\n",
    "    sentence_to_indices(tokens, word_to_index, max_len, i)\n",
    "    Y[i] = label\n",
    "\n",
    "\n",
    "print(X[:5])\n",
    "print(Y[:5])"
   ]
  },
  {
   "cell_type": "code",
   "execution_count": null,
   "metadata": {
    "id": "8oi1z_gDBsEQ",
    "outputId": "82b02a25-feb6-4996-c6cb-c297761aa328"
   },
   "outputs": [
    {
     "name": "stdout",
     "output_type": "stream",
     "text": [
      "(1600000, 25)\n",
      "(1600000,)\n",
      "time: 0 ns\n"
     ]
    }
   ],
   "source": [
    "print(X.shape)\n",
    "print(Y.shape)"
   ]
  },
  {
   "cell_type": "markdown",
   "metadata": {
    "id": "SruQpFFMBsEQ"
   },
   "source": [
    "## 3.3. Building the Model <a class=\"anchor\" id=\"head-3-3\"></a>"
   ]
  },
  {
   "cell_type": "code",
   "execution_count": null,
   "metadata": {
    "colab": {
     "base_uri": "https://localhost:8080/"
    },
    "id": "i5bAj9nlBsEQ",
    "outputId": "d4e29d51-e854-4eb0-f27d-16c004e93069"
   },
   "outputs": [
    {
     "name": "stdout",
     "output_type": "stream",
     "text": [
      "time: 42.4 ms (started: 2021-04-30 00:01:35 +00:00)\n"
     ]
    }
   ],
   "source": [
    "import keras\n",
    "from keras import Sequential\n",
    "from keras.models import Model\n",
    "from keras.layers import Dense, Dropout, LSTM, Bidirectional\n",
    "from keras.layers.embeddings import Embedding\n",
    "from sklearn.model_selection import train_test_split"
   ]
  },
  {
   "cell_type": "code",
   "execution_count": null,
   "metadata": {
    "colab": {
     "base_uri": "https://localhost:8080/"
    },
    "id": "_ugE7pGBm8A-",
    "outputId": "af32d479-9b60-47c2-dfba-626bbd500186"
   },
   "outputs": [
    {
     "name": "stdout",
     "output_type": "stream",
     "text": [
      "time: 6.71 ms (started: 2021-04-30 00:01:35 +00:00)\n"
     ]
    }
   ],
   "source": [
    "# Defining a function that will initialize and populate our embedding layer\n",
    "\n",
    "def pretrained_embedding_layer(word_to_vec_map, word_to_index, max_len):\n",
    "    vocab_len = len(word_to_index) + 1\n",
    "    emb_dim = word_to_vec_map[\"unk\"].shape[0] #50\n",
    "    \n",
    "    emb_matrix = np.zeros((vocab_len, emb_dim))\n",
    "    \n",
    "    for word, idx in word_to_index.items():\n",
    "        emb_matrix[idx, :] = word_to_vec_map[word]\n",
    "        \n",
    "    embedding_layer = Embedding(vocab_len, emb_dim, trainable=False, input_shape=(max_len,))\n",
    "    embedding_layer.build((None,))\n",
    "    embedding_layer.set_weights([emb_matrix])\n",
    "    \n",
    "    return embedding_layer"
   ]
  },
  {
   "cell_type": "code",
   "execution_count": null,
   "metadata": {
    "colab": {
     "base_uri": "https://localhost:8080/"
    },
    "id": "UZvgewT9Ev4c",
    "outputId": "2830ae3a-0d2b-4895-d897-9c47e315386e",
    "scrolled": true
   },
   "outputs": [
    {
     "name": "stdout",
     "output_type": "stream",
     "text": [
      "Model: \"sequential\"\n",
      "_________________________________________________________________\n",
      "Layer (type)                 Output Shape              Param #   \n",
      "=================================================================\n",
      "embedding (Embedding)        (None, 25, 50)            20000100  \n",
      "_________________________________________________________________\n",
      "bidirectional (Bidirectional (None, 25, 256)           183296    \n",
      "_________________________________________________________________\n",
      "bidirectional_1 (Bidirection (None, 256)               394240    \n",
      "_________________________________________________________________\n",
      "dense (Dense)                (None, 1)                 257       \n",
      "=================================================================\n",
      "Total params: 20,577,893\n",
      "Trainable params: 577,793\n",
      "Non-trainable params: 20,000,100\n",
      "_________________________________________________________________\n",
      "time: 1.87 s (started: 2021-04-30 00:01:35 +00:00)\n"
     ]
    }
   ],
   "source": [
    "# Defining a sequencial model composed of \n",
    "# 1. the embedding layer, \n",
    "# 2. a pair of Bidirectional LSTMs,\n",
    "# 3. feed into a sigmoid layer that generates our desired output betwene 0 and 1.\n",
    "\n",
    "# Note: if countering \"Cannot convert a symbolic Tensor (strided_slice:0) to a numpy array\"\n",
    "# You can downgrade numpy with: pip install numpy==1.19.5\n",
    "model = Sequential()\n",
    "\n",
    "model.add(pretrained_embedding_layer(word_to_vec_map, word_to_index, max_len))\n",
    "model.add(Bidirectional(LSTM(units=128, return_sequences=True)))\n",
    "model.add(Bidirectional(LSTM(units=128, return_sequences=False)))\n",
    "model.add(Dense(units=1, activation='sigmoid'))\n",
    "\n",
    "model.summary()"
   ]
  },
  {
   "cell_type": "code",
   "execution_count": null,
   "metadata": {
    "colab": {
     "base_uri": "https://localhost:8080/"
    },
    "id": "TFHoaATvEv4f",
    "outputId": "bee3fad3-5025-4da6-c7f7-d95122b4080c"
   },
   "outputs": [
    {
     "name": "stdout",
     "output_type": "stream",
     "text": [
      "time: 15.5 ms (started: 2021-04-30 00:01:37 +00:00)\n"
     ]
    }
   ],
   "source": [
    "# Compiling our model with a binary cross-entropy loss function, using the default adam optimizer\n",
    "# and setting the accurary as the metric to track and ameliorate\n",
    "\n",
    "model.compile(loss='binary_crossentropy', optimizer='adam', metrics=['accuracy'])"
   ]
  },
  {
   "cell_type": "code",
   "execution_count": null,
   "metadata": {
    "colab": {
     "base_uri": "https://localhost:8080/"
    },
    "id": "aUvi0G_mEv4g",
    "outputId": "40b0f670-4ac9-423d-d902-9c5b10d40f70"
   },
   "outputs": [
    {
     "name": "stdout",
     "output_type": "stream",
     "text": [
      "time: 892 ms (started: 2021-04-30 00:01:39 +00:00)\n"
     ]
    }
   ],
   "source": [
    "X_train, X_test, Y_train, Y_test = train_test_split(X, Y, test_size=0.2, random_state=0, stratify=Y)"
   ]
  },
  {
   "cell_type": "code",
   "execution_count": null,
   "metadata": {
    "id": "zW9yI7VcEv4i",
    "outputId": "043a6900-0ce8-4e00-997d-322268194611"
   },
   "outputs": [
    {
     "data": {
      "text/plain": [
       "1280000"
      ]
     },
     "execution_count": 14,
     "metadata": {
      "tags": []
     },
     "output_type": "execute_result"
    },
    {
     "name": "stdout",
     "output_type": "stream",
     "text": [
      "time: 0 ns\n"
     ]
    }
   ],
   "source": [
    "len(X_train)"
   ]
  },
  {
   "cell_type": "code",
   "execution_count": null,
   "metadata": {
    "id": "m5sRZYDyEv4k",
    "outputId": "f08dfbfd-4011-4a1e-e334-416f8ee37ae3"
   },
   "outputs": [
    {
     "data": {
      "text/plain": [
       "320000"
      ]
     },
     "execution_count": 15,
     "metadata": {
      "tags": []
     },
     "output_type": "execute_result"
    },
    {
     "name": "stdout",
     "output_type": "stream",
     "text": [
      "time: 0 ns\n"
     ]
    }
   ],
   "source": [
    "len(X_test)"
   ]
  },
  {
   "cell_type": "markdown",
   "metadata": {
    "id": "F6PPmworBsET"
   },
   "source": [
    "## 3.4. Training the Model <a class=\"anchor\" id=\"head-5-4\"></a>"
   ]
  },
  {
   "cell_type": "code",
   "execution_count": null,
   "metadata": {
    "colab": {
     "base_uri": "https://localhost:8080/"
    },
    "id": "BFM0MoTWD3wn",
    "outputId": "bc88ad0b-ae36-4ce3-9be0-205358472344"
   },
   "outputs": [
    {
     "name": "stdout",
     "output_type": "stream",
     "text": [
      "Found GPU at: /device:GPU:0\n",
      "time: 17.1 ms (started: 2021-04-30 00:01:42 +00:00)\n"
     ]
    }
   ],
   "source": [
    "# test if gpu exist on google colab\n",
    "import tensorflow as tf\n",
    "device_name = tf.test.gpu_device_name()\n",
    "if device_name != '/device:GPU:0':\n",
    "  raise SystemError('GPU device not found')\n",
    "print('Found GPU at: {}'.format(device_name))"
   ]
  },
  {
   "cell_type": "code",
   "execution_count": 24,
   "metadata": {
    "colab": {
     "base_uri": "https://localhost:8080/"
    },
    "id": "R75KvAX1Ev4m",
    "outputId": "caffc2be-db03-40ef-95b5-0615721066b4"
   },
   "outputs": [
    {
     "name": "stdout",
     "output_type": "stream",
     "text": [
      "Epoch 1/20\n",
      "10000/10000 [==============================] - 127s 13ms/step - loss: 0.2461 - accuracy: 0.8922 - val_loss: 0.7124 - val_accuracy: 0.7487\n",
      "Epoch 2/20\n",
      "10000/10000 [==============================] - 128s 13ms/step - loss: 0.2423 - accuracy: 0.8945 - val_loss: 0.7268 - val_accuracy: 0.7477\n",
      "Epoch 3/20\n",
      "10000/10000 [==============================] - 129s 13ms/step - loss: 0.2383 - accuracy: 0.8962 - val_loss: 0.7315 - val_accuracy: 0.7457\n",
      "Epoch 4/20\n",
      "10000/10000 [==============================] - 129s 13ms/step - loss: 0.2351 - accuracy: 0.8974 - val_loss: 0.7426 - val_accuracy: 0.7466\n",
      "Epoch 5/20\n",
      "10000/10000 [==============================] - 127s 13ms/step - loss: 0.2317 - accuracy: 0.8994 - val_loss: 0.7573 - val_accuracy: 0.7453\n",
      "Epoch 6/20\n",
      "10000/10000 [==============================] - 128s 13ms/step - loss: 0.2292 - accuracy: 0.9004 - val_loss: 0.7484 - val_accuracy: 0.7454\n",
      "Epoch 7/20\n",
      "10000/10000 [==============================] - 127s 13ms/step - loss: 0.2265 - accuracy: 0.9017 - val_loss: 0.7755 - val_accuracy: 0.7451\n",
      "Epoch 8/20\n",
      "10000/10000 [==============================] - 128s 13ms/step - loss: 0.2240 - accuracy: 0.9032 - val_loss: 0.7746 - val_accuracy: 0.7455\n",
      "Epoch 9/20\n",
      "10000/10000 [==============================] - 129s 13ms/step - loss: 0.2216 - accuracy: 0.9041 - val_loss: 0.7905 - val_accuracy: 0.7435\n",
      "Epoch 10/20\n",
      "10000/10000 [==============================] - 129s 13ms/step - loss: 0.2200 - accuracy: 0.9046 - val_loss: 0.7921 - val_accuracy: 0.7420\n",
      "Epoch 11/20\n",
      "10000/10000 [==============================] - 127s 13ms/step - loss: 0.2184 - accuracy: 0.9054 - val_loss: 0.7864 - val_accuracy: 0.7442\n",
      "Epoch 12/20\n",
      "10000/10000 [==============================] - 126s 13ms/step - loss: 0.2161 - accuracy: 0.9067 - val_loss: 0.8034 - val_accuracy: 0.7449\n",
      "Epoch 13/20\n",
      "10000/10000 [==============================] - 127s 13ms/step - loss: 0.2144 - accuracy: 0.9073 - val_loss: 0.8059 - val_accuracy: 0.7432\n",
      "Epoch 14/20\n",
      "10000/10000 [==============================] - 126s 13ms/step - loss: 0.2131 - accuracy: 0.9081 - val_loss: 0.8078 - val_accuracy: 0.7440\n",
      "Epoch 15/20\n",
      "10000/10000 [==============================] - 126s 13ms/step - loss: 0.2118 - accuracy: 0.9087 - val_loss: 0.8191 - val_accuracy: 0.7416\n",
      "Epoch 16/20\n",
      "10000/10000 [==============================] - 129s 13ms/step - loss: 0.2097 - accuracy: 0.9095 - val_loss: 0.8160 - val_accuracy: 0.7410\n",
      "Epoch 17/20\n",
      "10000/10000 [==============================] - 131s 13ms/step - loss: 0.2088 - accuracy: 0.9099 - val_loss: 0.8074 - val_accuracy: 0.7425\n",
      "Epoch 18/20\n",
      "10000/10000 [==============================] - 129s 13ms/step - loss: 0.2073 - accuracy: 0.9107 - val_loss: 0.8342 - val_accuracy: 0.7414\n",
      "Epoch 19/20\n",
      "10000/10000 [==============================] - 130s 13ms/step - loss: 0.2057 - accuracy: 0.9115 - val_loss: 0.8386 - val_accuracy: 0.7428\n",
      "Epoch 20/20\n",
      "10000/10000 [==============================] - 132s 13ms/step - loss: 0.2055 - accuracy: 0.9116 - val_loss: 0.8444 - val_accuracy: 0.7433\n",
      "time: 42min 46s (started: 2021-04-30 01:15:31 +00:00)\n"
     ]
    }
   ],
   "source": [
    "# Setting a batch size of 20 and training our model for 20 epochs\n",
    "# It's highly recommended to train RNN on GPU, this could save more than 30 times of the training time\n",
    "if device_name != '/device:GPU:0':\n",
    "  model.fit(X_train, Y_train, validation_data=(X_test, Y_test), epochs = 20, batch_size = 128, shuffle=True)\n",
    "else: \n",
    "  with tf.device('/device:GPU:0'):\n",
    "    model.fit(X_train, Y_train, validation_data=(X_test, Y_test), epochs = 20, batch_size = 128, shuffle=True)"
   ]
  },
  {
   "cell_type": "code",
   "execution_count": 25,
   "metadata": {
    "colab": {
     "base_uri": "https://localhost:8080/"
    },
    "id": "dDubmn4ZBsET",
    "outputId": "55be6e60-8819-409d-a46f-d7d7adb33608"
   },
   "outputs": [
    {
     "name": "stdout",
     "output_type": "stream",
     "text": [
      "time: 11 ms (started: 2021-04-30 01:58:24 +00:00)\n"
     ]
    }
   ],
   "source": [
    "# Defnining a handy function in order to plot various models accuracy and loss progress\n",
    "\n",
    "def plot_acc_loss(history):\n",
    "\n",
    "    acc = history.history['accuracy']\n",
    "    val_acc = history.history['val_accuracy']\n",
    "    loss = history.history['loss']\n",
    "    val_loss = history.history['val_loss']\n",
    "    epochs = range(1, len(acc) + 1)\n",
    "\n",
    "    plt.plot(epochs, acc, 'bo', label = 'Training Accuracy')\n",
    "    plt.plot(epochs, val_acc, 'r', label = 'Validation Accuracy')\n",
    "    plt.title('Training and Validation Accuracy')\n",
    "    plt.xlabel('Epochs')\n",
    "    plt.ylabel('Loss')\n",
    "    plt.legend()\n",
    "\n",
    "    plt.figure()\n",
    "    plt.plot(epochs, loss, 'bo', label = 'Training Loss')\n",
    "    plt.plot(epochs, val_loss, 'r', label = 'Validation Loss')\n",
    "    plt.title('Training and Validation Loss')\n",
    "    plt.xlabel('Epochs')\n",
    "    plt.ylabel('Loss')\n",
    "    plt.legend()\n",
    "    plt.show()"
   ]
  },
  {
   "cell_type": "code",
   "execution_count": 26,
   "metadata": {
    "colab": {
     "base_uri": "https://localhost:8080/",
     "height": 590
    },
    "id": "t2RSp_d8Ev4o",
    "outputId": "735f8ecb-5ed2-4c86-f58f-fe24f3f87eaa",
    "scrolled": false
   },
   "outputs": [
    {
     "data": {
      "image/png": "[encoded data removed]",
      "text/plain": [
       "<Figure size 432x288 with 1 Axes>"
      ]
     },
     "metadata": {
      "needs_background": "light",
      "tags": []
     },
     "output_type": "display_data"
    },
    {
     "data": {
      "image/png": "[encoded data removed]",
      "text/plain": [
       "<Figure size 432x288 with 1 Axes>"
      ]
     },
     "metadata": {
      "needs_background": "light",
      "tags": []
     },
     "output_type": "display_data"
    },
    {
     "name": "stdout",
     "output_type": "stream",
     "text": [
      "time: 327 ms (started: 2021-04-30 01:58:27 +00:00)\n"
     ]
    }
   ],
   "source": [
    "# Plotting the obtained training and validation loss and accuracy progressions.\n",
    "plot_acc_loss(model.history)"
   ]
  },
  {
   "cell_type": "markdown",
   "metadata": {
    "id": "Jp7sWJOaBsEU"
   },
   "source": [
    "The training accuracy is sky-rocketing, exceeding **91%** after 20 epochs. However, the validation accuracy experienced a consistently gradual decrease from **74%**. We can conclude this model havs very high variance and low bias, which is clearly \"over-fitting\"."
   ]
  },
  {
   "cell_type": "markdown",
   "metadata": {
    "id": "h7_x2SVGBsEU"
   },
   "source": [
    "## 3.5. Investigating Possibilties to Improve the Model <a class=\"anchor\" id=\"head-3-5\"></a>"
   ]
  },
  {
   "cell_type": "markdown",
   "metadata": {
    "id": "9zJKu52tBsEU"
   },
   "source": [
    "Several directions could be undertaken at this stage in order to improve our model's performance. And the most promising direction to firstly look into is to introduce some kind of regularization in our model in order to try to reduce the clearly apparent over-fitting problem our model is facing."
   ]
  },
  {
   "cell_type": "markdown",
   "metadata": {
    "id": "UKCtKr5sBsEU"
   },
   "source": [
    "### 3.5.1. Regularization - Dropout <a class=\"anchor\" id=\"head-3-5-1\"></a>"
   ]
  },
  {
   "cell_type": "markdown",
   "metadata": {
    "id": "B2CPUfXBBsEU"
   },
   "source": [
    "**Regularization** is the process of preventing a model from over-fitting the training data. You can conceptualize regularization as being a tool we use in order to render our model less sensible to every detail, and possibly outliers, in the training data. This should allow the model to better generalize and have a better performance on the validation data, or any data it wasn't trained on.\n",
    "\n",
    "**Dropout** is one of the many regularization techniques, and also one of the simplest to implement and most commonly used. Basically, what dropout does is that it randomly eliminates several (based on a parametrized percentage rate) neurons connections in the network, rendering the model less complex, and forcing the model to only look at part of a given example. The random elimination of connections in the model is repeated randomly for each example training data.\n",
    "\n",
    "\n",
    "For example, let's consider the following sentences, with a dropout layer with a rate of 0.5 (50% of connections will be eliminated): \n",
    "\n",
    "> \"Another kind of regularization can be directly applied to the cost function\"\n",
    ">\n",
    "> \"This is my first ever notebook. Hope you're enjoying it so far!\"\n",
    "\n",
    "The output of the dropout layer could look like the following:\n",
    "\n",
    "> \"kind of regularization be to function\"\n",
    ">\n",
    "> \"This my notebook. you enjoying it far!\"\n",
    "\n",
    "Thus, the model will only have information on a part of the input example, and should be able to escape over-fitting particular characteristics of the training data."
   ]
  },
  {
   "cell_type": "markdown",
   "metadata": {
    "id": "ZBUuwm8kBsEV"
   },
   "source": [
    "### Model Building - Dropout"
   ]
  },
  {
   "cell_type": "code",
   "execution_count": 27,
   "metadata": {
    "colab": {
     "base_uri": "https://localhost:8080/"
    },
    "id": "athoJIqmI6ku",
    "outputId": "584fea50-5607-48ae-ec7c-069a27cd1c36",
    "scrolled": false
   },
   "outputs": [
    {
     "name": "stdout",
     "output_type": "stream",
     "text": [
      "Model: \"sequential\"\n",
      "_________________________________________________________________\n",
      "Layer (type)                 Output Shape              Param #   \n",
      "=================================================================\n",
      "embedding (Embedding)        (None, 25, 50)            20000100  \n",
      "_________________________________________________________________\n",
      "dropout (Dropout)            (None, 25, 50)            0         \n",
      "_________________________________________________________________\n",
      "bidirectional (Bidirectional (None, 25, 256)           183296    \n",
      "_________________________________________________________________\n",
      "dropout_1 (Dropout)          (None, 25, 256)           0         \n",
      "_________________________________________________________________\n",
      "bidirectional_1 (Bidirection (None, 256)               394240    \n",
      "_________________________________________________________________\n",
      "dense (Dense)                (None, 1)                 257       \n",
      "=================================================================\n",
      "Total params: 20,577,893\n",
      "Trainable params: 577,793\n",
      "Non-trainable params: 20,000,100\n",
      "_________________________________________________________________\n",
      "time: 1.84 s (started: 2021-04-30 02:00:40 +00:00)\n"
     ]
    }
   ],
   "source": [
    "keras.backend.clear_session()\n",
    "\n",
    "model_dropout = Sequential()\n",
    "\n",
    "model_dropout.add(pretrained_embedding_layer(word_to_vec_map, word_to_index, max_len))\n",
    "model_dropout.add(Dropout(rate=0.4))\n",
    "model_dropout.add(Bidirectional(LSTM(units=128, return_sequences=True)))\n",
    "model_dropout.add(Dropout(rate=0.4))\n",
    "model_dropout.add(Bidirectional(LSTM(units=128, return_sequences=False)))\n",
    "model_dropout.add(Dense(units=1, activation='sigmoid'))\n",
    "\n",
    "model_dropout.summary()"
   ]
  },
  {
   "cell_type": "code",
   "execution_count": 28,
   "metadata": {
    "colab": {
     "base_uri": "https://localhost:8080/"
    },
    "id": "-boWlv4EI6k0",
    "outputId": "92246972-39a2-4e3f-84de-92e60e6dfccd"
   },
   "outputs": [
    {
     "name": "stdout",
     "output_type": "stream",
     "text": [
      "time: 11.8 ms (started: 2021-04-30 02:00:48 +00:00)\n"
     ]
    }
   ],
   "source": [
    "model_dropout.compile(loss='binary_crossentropy', optimizer='adam', metrics=['accuracy'])"
   ]
  },
  {
   "cell_type": "markdown",
   "metadata": {
    "id": "1OU2khu0BsEV"
   },
   "source": [
    "### Model Training - Dropout"
   ]
  },
  {
   "cell_type": "code",
   "execution_count": 29,
   "metadata": {
    "colab": {
     "base_uri": "https://localhost:8080/"
    },
    "id": "jar58Q_1I6k7",
    "outputId": "066a586f-6fd9-4012-d25d-c1147fac58c7"
   },
   "outputs": [
    {
     "name": "stdout",
     "output_type": "stream",
     "text": [
      "Epoch 1/20\n",
      "10000/10000 [==============================] - 138s 13ms/step - loss: 0.5867 - accuracy: 0.6822 - val_loss: 0.5046 - val_accuracy: 0.7491\n",
      "Epoch 2/20\n",
      "10000/10000 [==============================] - 132s 13ms/step - loss: 0.5346 - accuracy: 0.7258 - val_loss: 0.4926 - val_accuracy: 0.7581\n",
      "Epoch 3/20\n",
      "10000/10000 [==============================] - 132s 13ms/step - loss: 0.5206 - accuracy: 0.7358 - val_loss: 0.4836 - val_accuracy: 0.7644\n",
      "Epoch 4/20\n",
      "10000/10000 [==============================] - 131s 13ms/step - loss: 0.5140 - accuracy: 0.7401 - val_loss: 0.4792 - val_accuracy: 0.7667\n",
      "Epoch 5/20\n",
      "10000/10000 [==============================] - 130s 13ms/step - loss: 0.5078 - accuracy: 0.7454 - val_loss: 0.4743 - val_accuracy: 0.7695\n",
      "Epoch 6/20\n",
      "10000/10000 [==============================] - 132s 13ms/step - loss: 0.5049 - accuracy: 0.7477 - val_loss: 0.4752 - val_accuracy: 0.7697\n",
      "Epoch 7/20\n",
      "10000/10000 [==============================] - 132s 13ms/step - loss: 0.5021 - accuracy: 0.7494 - val_loss: 0.4718 - val_accuracy: 0.7724\n",
      "Epoch 8/20\n",
      "10000/10000 [==============================] - 130s 13ms/step - loss: 0.5002 - accuracy: 0.7507 - val_loss: 0.4685 - val_accuracy: 0.7737\n",
      "Epoch 9/20\n",
      "10000/10000 [==============================] - 130s 13ms/step - loss: 0.4971 - accuracy: 0.7534 - val_loss: 0.4695 - val_accuracy: 0.7726\n",
      "Epoch 10/20\n",
      "10000/10000 [==============================] - 129s 13ms/step - loss: 0.4957 - accuracy: 0.7534 - val_loss: 0.4653 - val_accuracy: 0.7758\n",
      "Epoch 11/20\n",
      "10000/10000 [==============================] - 129s 13ms/step - loss: 0.4950 - accuracy: 0.7547 - val_loss: 0.4719 - val_accuracy: 0.7729\n",
      "Epoch 12/20\n",
      "10000/10000 [==============================] - 129s 13ms/step - loss: 0.4934 - accuracy: 0.7556 - val_loss: 0.4662 - val_accuracy: 0.7755\n",
      "Epoch 13/20\n",
      "10000/10000 [==============================] - 129s 13ms/step - loss: 0.4927 - accuracy: 0.7557 - val_loss: 0.4655 - val_accuracy: 0.7764\n",
      "Epoch 14/20\n",
      "10000/10000 [==============================] - 128s 13ms/step - loss: 0.4911 - accuracy: 0.7572 - val_loss: 0.4680 - val_accuracy: 0.7755\n",
      "Epoch 15/20\n",
      "10000/10000 [==============================] - 128s 13ms/step - loss: 0.4907 - accuracy: 0.7576 - val_loss: 0.4624 - val_accuracy: 0.7778\n",
      "Epoch 16/20\n",
      "10000/10000 [==============================] - 128s 13ms/step - loss: 0.4905 - accuracy: 0.7573 - val_loss: 0.4638 - val_accuracy: 0.7774\n",
      "Epoch 17/20\n",
      "10000/10000 [==============================] - 128s 13ms/step - loss: 0.4894 - accuracy: 0.7576 - val_loss: 0.4623 - val_accuracy: 0.7782\n",
      "Epoch 18/20\n",
      "10000/10000 [==============================] - 130s 13ms/step - loss: 0.4881 - accuracy: 0.7591 - val_loss: 0.4614 - val_accuracy: 0.7781\n",
      "Epoch 19/20\n",
      "10000/10000 [==============================] - 128s 13ms/step - loss: 0.4875 - accuracy: 0.7594 - val_loss: 0.4634 - val_accuracy: 0.7787\n",
      "Epoch 20/20\n",
      "10000/10000 [==============================] - 130s 13ms/step - loss: 0.4866 - accuracy: 0.7604 - val_loss: 0.4618 - val_accuracy: 0.7791\n",
      "time: 43min 24s (started: 2021-04-30 02:00:56 +00:00)\n"
     ]
    }
   ],
   "source": [
    "if device_name != '/device:GPU:0':\n",
    "  model_dropout.fit(X_train, Y_train, validation_data=(X_test, Y_test), epochs = 20, batch_size = 128, shuffle=True)\n",
    "else: \n",
    "  with tf.device('/device:GPU:0'):\n",
    "    model_dropout.fit(X_train, Y_train, validation_data=(X_test, Y_test), epochs = 20, batch_size = 128, shuffle=True)"
   ]
  },
  {
   "cell_type": "code",
   "execution_count": 30,
   "metadata": {
    "colab": {
     "base_uri": "https://localhost:8080/",
     "height": 590
    },
    "id": "PMyJt7FsI6lC",
    "outputId": "65604831-b979-4ab2-f7f4-f47014f2b190"
   },
   "outputs": [
    {
     "data": {
      "image/png": "[encoded data removed]",
      "text/plain": [
       "<Figure size 432x288 with 1 Axes>"
      ]
     },
     "metadata": {
      "needs_background": "light",
      "tags": []
     },
     "output_type": "display_data"
    },
    {
     "data": {
      "image/png": "[encoded data removed]",
      "text/plain": [
       "<Figure size 432x288 with 1 Axes>"
      ]
     },
     "metadata": {
      "needs_background": "light",
      "tags": []
     },
     "output_type": "display_data"
    },
    {
     "name": "stdout",
     "output_type": "stream",
     "text": [
      "time: 303 ms (started: 2021-04-30 02:44:28 +00:00)\n"
     ]
    }
   ],
   "source": [
    "plot_acc_loss(model_dropout.history)"
   ]
  },
  {
   "cell_type": "markdown",
   "metadata": {
    "id": "WCgvQUeABsEW"
   },
   "source": [
    "We can clearly see the effects of adding dropout layers on the training progress. The training accuracy is progressing at a much slower pace than it previously did. Nevertheless, the validation accuracy is steadily increasing, reaching 77%.\n",
    "\n",
    "Let's keep on training the model for 20 more epochs."
   ]
  },
  {
   "cell_type": "code",
   "execution_count": 31,
   "metadata": {
    "colab": {
     "base_uri": "https://localhost:8080/"
    },
    "id": "-zCHwT1dVLlJ",
    "outputId": "94659545-916a-4327-8ba2-af9da7cc8772"
   },
   "outputs": [
    {
     "name": "stdout",
     "output_type": "stream",
     "text": [
      "Epoch 1/20\n",
      "10000/10000 [==============================] - 129s 13ms/step - loss: 0.4872 - accuracy: 0.7597 - val_loss: 0.4621 - val_accuracy: 0.7784\n",
      "Epoch 2/20\n",
      "10000/10000 [==============================] - 129s 13ms/step - loss: 0.4871 - accuracy: 0.7597 - val_loss: 0.4614 - val_accuracy: 0.7785\n",
      "Epoch 3/20\n",
      "10000/10000 [==============================] - 128s 13ms/step - loss: 0.4864 - accuracy: 0.7601 - val_loss: 0.4610 - val_accuracy: 0.7780\n",
      "Epoch 4/20\n",
      "10000/10000 [==============================] - 129s 13ms/step - loss: 0.4859 - accuracy: 0.7605 - val_loss: 0.4599 - val_accuracy: 0.7789\n",
      "Epoch 5/20\n",
      "10000/10000 [==============================] - 129s 13ms/step - loss: 0.4854 - accuracy: 0.7611 - val_loss: 0.4657 - val_accuracy: 0.7771\n",
      "Epoch 6/20\n",
      "10000/10000 [==============================] - 127s 13ms/step - loss: 0.4852 - accuracy: 0.7614 - val_loss: 0.4590 - val_accuracy: 0.7797\n",
      "Epoch 7/20\n",
      "10000/10000 [==============================] - 128s 13ms/step - loss: 0.4851 - accuracy: 0.7613 - val_loss: 0.4598 - val_accuracy: 0.7789\n",
      "Epoch 8/20\n",
      "10000/10000 [==============================] - 127s 13ms/step - loss: 0.4850 - accuracy: 0.7613 - val_loss: 0.4610 - val_accuracy: 0.7782\n",
      "Epoch 9/20\n",
      "10000/10000 [==============================] - 127s 13ms/step - loss: 0.4841 - accuracy: 0.7616 - val_loss: 0.4589 - val_accuracy: 0.7800\n",
      "Epoch 10/20\n",
      "10000/10000 [==============================] - 127s 13ms/step - loss: 0.4834 - accuracy: 0.7619 - val_loss: 0.4597 - val_accuracy: 0.7795\n",
      "Epoch 11/20\n",
      "10000/10000 [==============================] - 127s 13ms/step - loss: 0.4833 - accuracy: 0.7626 - val_loss: 0.4618 - val_accuracy: 0.7789\n",
      "Epoch 12/20\n",
      "10000/10000 [==============================] - 127s 13ms/step - loss: 0.4848 - accuracy: 0.7613 - val_loss: 0.4598 - val_accuracy: 0.7792\n",
      "Epoch 13/20\n",
      "10000/10000 [==============================] - 126s 13ms/step - loss: 0.4831 - accuracy: 0.7621 - val_loss: 0.4612 - val_accuracy: 0.7784\n",
      "Epoch 14/20\n",
      "10000/10000 [==============================] - 127s 13ms/step - loss: 0.4826 - accuracy: 0.7627 - val_loss: 0.4592 - val_accuracy: 0.7796\n",
      "Epoch 15/20\n",
      "10000/10000 [==============================] - 128s 13ms/step - loss: 0.4824 - accuracy: 0.7631 - val_loss: 0.4601 - val_accuracy: 0.7801\n",
      "Epoch 16/20\n",
      "10000/10000 [==============================] - 127s 13ms/step - loss: 0.4828 - accuracy: 0.7623 - val_loss: 0.4588 - val_accuracy: 0.7806\n",
      "Epoch 17/20\n",
      "10000/10000 [==============================] - 127s 13ms/step - loss: 0.4820 - accuracy: 0.7631 - val_loss: 0.4603 - val_accuracy: 0.7804\n",
      "Epoch 18/20\n",
      "10000/10000 [==============================] - 127s 13ms/step - loss: 0.4820 - accuracy: 0.7633 - val_loss: 0.4587 - val_accuracy: 0.7801\n",
      "Epoch 19/20\n",
      "10000/10000 [==============================] - 127s 13ms/step - loss: 0.4816 - accuracy: 0.7634 - val_loss: 0.4572 - val_accuracy: 0.7816\n",
      "Epoch 20/20\n",
      "10000/10000 [==============================] - 127s 13ms/step - loss: 0.4819 - accuracy: 0.7632 - val_loss: 0.4587 - val_accuracy: 0.7806\n",
      "time: 42min 30s (started: 2021-04-30 02:45:27 +00:00)\n"
     ]
    }
   ],
   "source": [
    "if device_name != '/device:GPU:0':\n",
    "  model_dropout.fit(X_train, Y_train, validation_data=(X_test, Y_test), epochs = 20, batch_size = 128, shuffle=True)\n",
    "else: \n",
    "  with tf.device('/device:GPU:0'):\n",
    "    model_dropout.fit(X_train, Y_train, validation_data=(X_test, Y_test), epochs = 20, batch_size = 128, shuffle=True)"
   ]
  },
  {
   "cell_type": "code",
   "execution_count": null,
   "metadata": {
    "id": "8BzppwkIVLqY",
    "outputId": "a76b0248-3e4c-42f2-b7ef-ef79e0386360",
    "scrolled": false
   },
   "outputs": [
    {
     "data": {
      "image/png": "[encoded data removed]",
      "text/plain": [
       "<Figure size 432x288 with 1 Axes>"
      ]
     },
     "metadata": {
      "needs_background": "light",
      "tags": []
     },
     "output_type": "display_data"
    },
    {
     "data": {
      "image/png": "[encoded data removed]",
      "text/plain": [
       "<Figure size 432x288 with 1 Axes>"
      ]
     },
     "metadata": {
      "needs_background": "light",
      "tags": []
     },
     "output_type": "display_data"
    }
   ],
   "source": [
    "plot_acc_loss(model_dropout.history)"
   ]
  },
  {
   "cell_type": "markdown",
   "metadata": {
    "id": "YTJN0-rOBsEX"
   },
   "source": [
    "We can observe that the accuracy has plateaued, reaching its best validation value of **77.2%**."
   ]
  },
  {
   "cell_type": "markdown",
   "metadata": {
    "id": "zwcUGz5ABsEX"
   },
   "source": [
    "Thus, we can conclude that the regularization process did not really help us in our case. A tiny **0.5%** improvement was observed after adding dropout to the model.\n",
    "\n",
    "This leads us to the second direction to investigate in order to improve our model: **data**."
   ]
  },
  {
   "cell_type": "markdown",
   "metadata": {
    "id": "Nol6-eEIBsEX"
   },
   "source": [
    "### 3.5.2. Inspecting the Data - Unknown Words <a class=\"anchor\" id=\"head-3-5-2\"></a>"
   ]
  },
  {
   "cell_type": "markdown",
   "metadata": {
    "id": "PAVjj82GBsEX"
   },
   "source": [
    "As explained earlier, whenever a word is not included in the words embedding mapping, it is referred to as an unknown word, or *unk*. Let's count the number of words that are being flagged as unknowns in our data. "
   ]
  },
  {
   "cell_type": "code",
   "execution_count": 32,
   "metadata": {
    "colab": {
     "base_uri": "https://localhost:8080/"
    },
    "id": "pdBS_dMqhYKm",
    "outputId": "c6fbe916-9414-4ab1-f06f-ffc99b7e07b6"
   },
   "outputs": [
    {
     "data": {
      "text/plain": [
       "792877"
      ]
     },
     "execution_count": 32,
     "metadata": {
      "tags": []
     },
     "output_type": "execute_result"
    },
    {
     "name": "stdout",
     "output_type": "stream",
     "text": [
      "time: 15.2 s (started: 2021-04-30 04:08:54 +00:00)\n"
     ]
    }
   ],
   "source": [
    "unk = word_to_index['unk']\n",
    "\n",
    "n_unk_words = 0\n",
    "\n",
    "for x in X:\n",
    "    for y in x:\n",
    "        if y == unk:\n",
    "            n_unk_words += 1\n",
    "\n",
    "n_unk_words"
   ]
  },
  {
   "cell_type": "markdown",
   "metadata": {
    "id": "UukS4HczBsEY"
   },
   "source": [
    "800K unknown words are kind of a lot. In fact, after counting the total number of words in our data, this equates to ~7% of all words. "
   ]
  },
  {
   "cell_type": "code",
   "execution_count": 33,
   "metadata": {
    "colab": {
     "base_uri": "https://localhost:8080/"
    },
    "id": "XIXt8qTjFvER",
    "outputId": "fc990899-a505-46b4-a42f-cba3da044b46"
   },
   "outputs": [
    {
     "data": {
      "text/plain": [
       "792873"
      ]
     },
     "execution_count": 33,
     "metadata": {
      "tags": []
     },
     "output_type": "execute_result"
    },
    {
     "name": "stdout",
     "output_type": "stream",
     "text": [
      "time: 6.92 ms (started: 2021-04-30 04:10:26 +00:00)\n"
     ]
    }
   ],
   "source": [
    "len(unks)"
   ]
  },
  {
   "cell_type": "code",
   "execution_count": 34,
   "metadata": {
    "colab": {
     "base_uri": "https://localhost:8080/"
    },
    "id": "bOAhxyASFwjm",
    "outputId": "23d26706-36b3-47d5-a0ba-20566321e96c"
   },
   "outputs": [
    {
     "data": {
      "text/plain": [
       "912065"
      ]
     },
     "execution_count": 34,
     "metadata": {
      "tags": []
     },
     "output_type": "execute_result"
    },
    {
     "name": "stdout",
     "output_type": "stream",
     "text": [
      "time: 4.64 ms (started: 2021-04-30 04:10:27 +00:00)\n"
     ]
    }
   ],
   "source": [
    "len(UNKS)"
   ]
  },
  {
   "cell_type": "markdown",
   "metadata": {
    "id": "KvY4oLErBsEY"
   },
   "source": [
    "In the function `sentence_to_indices`, we have incorporated a \"last resort\" function `cleared`, which eliminates contiguous similar characters."
   ]
  },
  {
   "cell_type": "markdown",
   "metadata": {
    "id": "8P9f7t4kBsEY"
   },
   "source": [
    "Let's investigate some of the most commonly occuring unknowns words in our data."
   ]
  },
  {
   "cell_type": "code",
   "execution_count": 35,
   "metadata": {
    "colab": {
     "base_uri": "https://localhost:8080/"
    },
    "id": "rMtPFErehozD",
    "outputId": "f3cecb5b-0d18-4f6a-f3b5-ecbfc1acf0bb"
   },
   "outputs": [
    {
     "data": {
      "text/plain": [
       "[(\"i'm\", 122237),\n",
       " (\"can't\", 44971),\n",
       " (\"i'l\", 25069),\n",
       " (\"that's\", 21660),\n",
       " (\"i've\", 19508),\n",
       " (\"he's\", 7943),\n",
       " (\"i'd\", 7589),\n",
       " ('hahaha', 7190),\n",
       " (\"we're\", 6409),\n",
       " (\"there's\", 5874),\n",
       " (\"what's\", 5510),\n",
       " (\"they're\", 4989),\n",
       " ('lmao', 4696),\n",
       " (\"we'l\", 3573),\n",
       " (\"let's\", 3215),\n",
       " ('#folowfriday', 2616),\n",
       " ('bday', 2608),\n",
       " ('idk', 2549),\n",
       " (\"it'l\", 2243),\n",
       " ('. .', 2240),\n",
       " ('hahah', 2046),\n",
       " (\"mother's\", 1910),\n",
       " ('#fb', 1786),\n",
       " (\"how's\", 1705),\n",
       " ('. . .', 1642),\n",
       " ('hahahaha', 1601),\n",
       " (\"who's\", 1469),\n",
       " (\":'(\", 1407),\n",
       " ('thanx', 1364),\n",
       " ('tweps', 1311),\n",
       " (\"ain't\", 1276),\n",
       " (\"y'al\", 1214),\n",
       " (\"we've\", 1211),\n",
       " (';-)', 1092),\n",
       " ('coky', 1090),\n",
       " ('hehehe', 1079),\n",
       " (\"where's\", 1056),\n",
       " ('awh', 1043),\n",
       " (\"today's\", 1015),\n",
       " (\"here's\", 999),\n",
       " ('2morow', 970),\n",
       " ('ahaha', 927),\n",
       " ('#squarespace', 925),\n",
       " (\"mom's\", 874),\n",
       " ('urgh', 839),\n",
       " ('b-day', 835),\n",
       " ('w.tweterader.com', 830),\n",
       " ('sux', 810),\n",
       " ('tomorow', 804),\n",
       " (\"father's\", 798)]"
      ]
     },
     "execution_count": 35,
     "metadata": {
      "tags": []
     },
     "output_type": "execute_result"
    },
    {
     "name": "stdout",
     "output_type": "stream",
     "text": [
      "time: 157 ms (started: 2021-04-30 04:15:43 +00:00)\n"
     ]
    }
   ],
   "source": [
    "from collections import Counter\n",
    "Counter(unks).most_common(50)"
   ]
  },
  {
   "cell_type": "markdown",
   "metadata": {
    "id": "ZGBEVr2gBsEZ"
   },
   "source": [
    "We can observe that most of the unknown words are very common words, however the word embeddings layer does not support quotes. For example, if you try to get the index of the word \"i'm\", you'll be prompted with a key error, whereas the word \"im\" is available as a valid key. Other words, such as \"idk\", \"lmao\" or \"b-day\" reminds us that our data comes from twitter, and we'll have to individually handle each of these words such that our words embedding layer recognise them."
   ]
  },
  {
   "cell_type": "markdown",
   "metadata": {
    "id": "dayhCLcyBsEZ"
   },
   "source": [
    "### Further data cleaning"
   ]
  },
  {
   "cell_type": "markdown",
   "metadata": {
    "id": "8WV6OgcFBsEZ"
   },
   "source": [
    "Gathering insights from the above output, and from manually skimming through the data, the `remove_noise` function has been redefined as follows:"
   ]
  },
  {
   "cell_type": "code",
   "execution_count": 37,
   "metadata": {
    "colab": {
     "base_uri": "https://localhost:8080/"
    },
    "id": "OSMvwUIKjMb-",
    "outputId": "5f43fd49-068e-4250-ce91-5be6de514210"
   },
   "outputs": [
    {
     "name": "stdout",
     "output_type": "stream",
     "text": [
      "['awww', 'that', 'is', 'bummer', 'shoulda', 'get', 'david', 'carr', 'third', 'day']\n",
      "time: 183 ms (started: 2021-04-30 04:18:18 +00:00)\n"
     ]
    }
   ],
   "source": [
    "# A custom function defined in order to fine-tune the cleaning of the input text.\n",
    "# This function is being \"upgraded\" such that it performs a more thourough cleaning of the data\n",
    "# in order to better fit our words embedding layer\n",
    "def cleaned(token):\n",
    "    if token == 'u':\n",
    "        return 'you'\n",
    "    if token == 'r':\n",
    "        return 'are'\n",
    "    if token == 'some1':\n",
    "        return 'someone'\n",
    "    if token == 'yrs':\n",
    "        return 'years'\n",
    "    if token == 'hrs':\n",
    "        return 'hours'\n",
    "    if token == 'mins':\n",
    "        return 'minutes'\n",
    "    if token == 'secs':\n",
    "        return 'seconds'\n",
    "    if token == 'pls' or token == 'plz':\n",
    "        return 'please'\n",
    "    if token == '2morow' or token == '2moro':\n",
    "        return 'tomorrow'\n",
    "    if token == '2day':\n",
    "        return 'today'\n",
    "    if token == '4got' or token == '4gotten':\n",
    "        return 'forget'\n",
    "    if token in ['hahah', 'hahaha', 'hahahaha']:\n",
    "        return 'haha'\n",
    "    if token == \"mother's\":\n",
    "        return \"mother\"\n",
    "    if token == \"mom's\":\n",
    "        return \"mom\"\n",
    "    if token == \"dad's\":\n",
    "        return \"dad\"\n",
    "    if token == 'bday' or token == 'b-day':\n",
    "        return 'birthday'\n",
    "    if token in [\"i'm\", \"don't\", \"can't\", \"couldn't\", \"aren't\", \"wouldn't\", \"isn't\", \"didn't\", \"hadn't\",\n",
    "                 \"doesn't\", \"won't\", \"haven't\", \"wasn't\", \"hasn't\", \"shouldn't\", \"ain't\", \"they've\"]:\n",
    "        return token.replace(\"'\", \"\")\n",
    "    if token in ['lmao', 'lolz', 'rofl']:\n",
    "        return 'lol'\n",
    "    if token == '<3':\n",
    "        return 'love'\n",
    "    if token == 'thanx' or token == 'thnx':\n",
    "        return 'thanks'\n",
    "    if token == 'goood':\n",
    "        return 'good'\n",
    "    if token in ['amp', 'quot', 'lt', 'gt', '½25', '..', '. .', '. . .']:\n",
    "        return ''\n",
    "    return token\n",
    "\n",
    "\n",
    "# This function will be our all-in-one noise removal function\n",
    "def remove_noise(tweet_tokens):\n",
    "\n",
    "    cleaned_tokens = []\n",
    "\n",
    "    for token in tweet_tokens:\n",
    "        # Eliminating the token if it is a link\n",
    "        token = re.sub(r'''(?i)\\b((?:https?://|www\\d{0,3}[.]|[a-z0-9.\\-]+[.][a-z]{2,4}/)(?:[^\\s()<>]+|\\(([^\\s()<>]+|(\\([^\\s()<>]+\\)))*\\))+(?:\\(([^\\s()<>]+|(\\([^\\s()<>]+\\)))*\\)|[^\\s`!()\\[\\]{};:'\".,<>?«»“”‘’]))''', \" \", token)\n",
    "        # Eliminating the token if it is a mention\n",
    "        token = re.sub(\"(@[A-Za-z0-9_]+)\",\"\", token)\n",
    "        \n",
    "        cleaned_token = cleaned(token.lower())\n",
    "        \n",
    "        if cleaned_token == \"idk\":\n",
    "            cleaned_tokens.append('i')\n",
    "            cleaned_tokens.append('dont')\n",
    "            cleaned_tokens.append('know')\n",
    "            continue\n",
    "        if cleaned_token == \"i'll\":\n",
    "            cleaned_tokens.append('i')\n",
    "            cleaned_tokens.append('will')\n",
    "            continue\n",
    "        if cleaned_token == \"you'll\":\n",
    "            cleaned_tokens.append('you')\n",
    "            cleaned_tokens.append('will')\n",
    "            continue\n",
    "        if cleaned_token == \"we'll\":\n",
    "            cleaned_tokens.append('we')\n",
    "            cleaned_tokens.append('will')\n",
    "            continue\n",
    "        if cleaned_token == \"it'll\":\n",
    "            cleaned_tokens.append('it')\n",
    "            cleaned_tokens.append('will')\n",
    "            continue\n",
    "        if cleaned_token == \"it's\":\n",
    "            cleaned_tokens.append('it')\n",
    "            cleaned_tokens.append('is')\n",
    "            continue\n",
    "        if cleaned_token == \"i've\":\n",
    "            cleaned_tokens.append('i')\n",
    "            cleaned_tokens.append('have')\n",
    "            continue\n",
    "        if cleaned_token == \"you've\":\n",
    "            cleaned_tokens.append('you')\n",
    "            cleaned_tokens.append('have')\n",
    "            continue\n",
    "        if cleaned_token == \"we've\":\n",
    "            cleaned_tokens.append('we')\n",
    "            cleaned_tokens.append('have')\n",
    "            continue\n",
    "        if cleaned_token == \"they've\":\n",
    "            cleaned_tokens.append('they')\n",
    "            cleaned_tokens.append('have')\n",
    "            continue\n",
    "        if cleaned_token == \"you're\":\n",
    "            cleaned_tokens.append('you')\n",
    "            cleaned_tokens.append('are')\n",
    "            continue\n",
    "        if cleaned_token == \"we're\":\n",
    "            cleaned_tokens.append('we')\n",
    "            cleaned_tokens.append('are')\n",
    "            continue\n",
    "        if cleaned_token == \"they're\":\n",
    "            cleaned_tokens.append('they')\n",
    "            cleaned_tokens.append('are')\n",
    "            continue\n",
    "        if cleaned_token == \"let's\":\n",
    "            cleaned_tokens.append('let')\n",
    "            cleaned_tokens.append('us')\n",
    "            continue\n",
    "        if cleaned_token == \"she's\":\n",
    "            cleaned_tokens.append('she')\n",
    "            cleaned_tokens.append('is')\n",
    "            continue\n",
    "        if cleaned_token == \"he's\":\n",
    "            cleaned_tokens.append('he')\n",
    "            cleaned_tokens.append('is')\n",
    "            continue\n",
    "        if cleaned_token == \"that's\":\n",
    "            cleaned_tokens.append('that')\n",
    "            cleaned_tokens.append('is')\n",
    "            continue\n",
    "        if cleaned_token == \"i'd\":\n",
    "            cleaned_tokens.append('i')\n",
    "            cleaned_tokens.append('would')\n",
    "            continue\n",
    "        if cleaned_token == \"you'd\":\n",
    "            cleaned_tokens.append('you')\n",
    "            cleaned_tokens.append('would')\n",
    "            continue\n",
    "        if cleaned_token == \"there's\":\n",
    "            cleaned_tokens.append('there')\n",
    "            cleaned_tokens.append('is')\n",
    "            continue\n",
    "        if cleaned_token == \"what's\":\n",
    "            cleaned_tokens.append('what')\n",
    "            cleaned_tokens.append('is')\n",
    "            continue\n",
    "        if cleaned_token == \"how's\":\n",
    "            cleaned_tokens.append('how')\n",
    "            cleaned_tokens.append('is')\n",
    "            continue\n",
    "        if cleaned_token == \"who's\":\n",
    "            cleaned_tokens.append('who')\n",
    "            cleaned_tokens.append('is')\n",
    "            continue\n",
    "        if cleaned_token == \"y'all\" or cleaned_token == \"ya'll\":\n",
    "            cleaned_tokens.append('you')\n",
    "            cleaned_tokens.append('all')\n",
    "            continue\n",
    "\n",
    "        if cleaned_token.strip() and cleaned_token not in string.punctuation: \n",
    "            cleaned_tokens.append(cleaned_token)\n",
    "            \n",
    "    return cleaned_tokens\n",
    "\n",
    "\n",
    "# Prevewing the remove_noise() output\n",
    "print(remove_noise(final_data[0][0]))"
   ]
  },
  {
   "cell_type": "markdown",
   "metadata": {
    "id": "ZvjCMX4CBsEa"
   },
   "source": [
    "Now let's re-compute our X and Y arrays according to the newly defined `remove_noise` function."
   ]
  },
  {
   "cell_type": "code",
   "execution_count": 39,
   "metadata": {
    "colab": {
     "base_uri": "https://localhost:8080/"
    },
    "id": "oQbiPTUJBsEa",
    "outputId": "58ff9b11-463e-4dea-85ce-b5e726d3cd5c"
   },
   "outputs": [
    {
     "name": "stdout",
     "output_type": "stream",
     "text": [
      "max_len: 25\n",
      "[[ 64416. 357213. 192974.  86732. 329918. 160419. 117721.  92607. 358030.\n",
      "  117875.      0.      0.      0.      0.      0.      0.      0.      0.\n",
      "       0.      0.      0.      0.      0.      0.      0.]\n",
      " [373562.  91042. 373376. 143883. 356843.    868. 243978. 112844. 306709.\n",
      "  321161. 361081.  52521.  77742.      0.      0.      0.      0.      0.\n",
      "       0.      0.      0.      0.      0.      0.      0.]\n",
      " [125957. 233709. 359890.  67288. 232573. 319419. 306582.  81902.      0.\n",
      "       0.      0.      0.      0.      0.      0.      0.      0.      0.\n",
      "       0.      0.      0.      0.      0.      0.      0.]\n",
      " [386898.  79377. 146345. 193827. 222472. 148729.      0.      0.      0.\n",
      "       0.      0.      0.      0.      0.      0.      0.      0.      0.\n",
      "       0.      0.      0.      0.      0.      0.      0.]\n",
      " [ 72017. 187632. 229754.  91042. 323338.      0.      0.      0.      0.\n",
      "       0.      0.      0.      0.      0.      0.      0.      0.      0.\n",
      "       0.      0.      0.      0.      0.      0.      0.]]\n",
      "[0. 0. 0. 0. 0.]\n",
      "time: 56.7 s (started: 2021-04-30 04:19:01 +00:00)\n"
     ]
    }
   ],
   "source": [
    "unks = []\n",
    "UNKS = []\n",
    "\n",
    "def cleared(word):\n",
    "    res = \"\"\n",
    "    prev = None\n",
    "    for char in word:\n",
    "        if char == prev: continue\n",
    "        prev = char\n",
    "        res += char\n",
    "    return res\n",
    "\n",
    "def sentence_to_indices(sentence_words, word_to_index, max_len, i):\n",
    "    global X, Y\n",
    "    sentence_indices = []\n",
    "    for j, w in enumerate(sentence_words):\n",
    "        try:\n",
    "            index = word_to_index[w]\n",
    "        except:\n",
    "            UNKS.append(w)\n",
    "            w = cleared(w)\n",
    "            try:\n",
    "                index = word_to_index[w]\n",
    "            except:\n",
    "                index = word_to_index['unk']\n",
    "                unks.append(w)\n",
    "        X[i, j] = index\n",
    "\n",
    "cleaned_tokens_list = []\n",
    "\n",
    "# Removing noise from all the data, using the newly defined function\n",
    "for tokens, label in final_data:\n",
    "    x = remove_noise(tokens)\n",
    "    if x:\n",
    "        cleaned_tokens_list.append((x, label))\n",
    "\n",
    "list_len = [len(i) for i, j in cleaned_tokens_list]\n",
    "max_len = max(list_len)\n",
    "print('max_len:', max_len)\n",
    "\n",
    "\n",
    "X = np.zeros((len(cleaned_tokens_list), max_len))\n",
    "Y = np.zeros((len(cleaned_tokens_list), ))\n",
    "\n",
    "\n",
    "for i, tk_lb in enumerate(cleaned_tokens_list):\n",
    "    tokens, label = tk_lb\n",
    "    sentence_to_indices(tokens, word_to_index, max_len, i)\n",
    "    Y[i] = label\n",
    "    \n",
    "\n",
    "print(X[:5])\n",
    "print(Y[:5])"
   ]
  },
  {
   "cell_type": "markdown",
   "metadata": {
    "id": "LKat5-cmBsEb"
   },
   "source": [
    "Great, let's take a look at the progress accomplished:"
   ]
  },
  {
   "cell_type": "code",
   "execution_count": 40,
   "metadata": {
    "colab": {
     "base_uri": "https://localhost:8080/"
    },
    "id": "eRcm76khh87e",
    "outputId": "e2ffd44d-d1a4-4512-babb-ad33eb2dfbb8"
   },
   "outputs": [
    {
     "data": {
      "text/plain": [
       "469651"
      ]
     },
     "execution_count": 40,
     "metadata": {
      "tags": []
     },
     "output_type": "execute_result"
    },
    {
     "name": "stdout",
     "output_type": "stream",
     "text": [
      "time: 15.3 s (started: 2021-04-30 04:20:53 +00:00)\n"
     ]
    }
   ],
   "source": [
    "unk = word_to_index['unk']\n",
    "\n",
    "n_unk_words = 0\n",
    "\n",
    "for x in X:\n",
    "    for y in x:\n",
    "        if y == unk:\n",
    "            n_unk_words += 1\n",
    "\n",
    "n_unk_words"
   ]
  },
  {
   "cell_type": "markdown",
   "metadata": {
    "id": "aT68MyNABsEb"
   },
   "source": [
    "That's amazing! We've managed to bring down the number of unknown words from 800K to 470K!"
   ]
  },
  {
   "cell_type": "code",
   "execution_count": 41,
   "metadata": {
    "colab": {
     "base_uri": "https://localhost:8080/"
    },
    "id": "VkY5O-zGkofg",
    "outputId": "fa553417-7157-4ef7-a9df-d39ef71b4fcf",
    "scrolled": false
   },
   "outputs": [
    {
     "data": {
      "text/plain": [
       "[('#folowfriday', 2616),\n",
       " ('#fb', 1786),\n",
       " ('. .', 1486),\n",
       " (\":'(\", 1407),\n",
       " ('tweps', 1311),\n",
       " (';-)', 1092),\n",
       " ('coky', 1090),\n",
       " ('hehehe', 1079),\n",
       " (\"where's\", 1056),\n",
       " ('awh', 1043),\n",
       " (\"today's\", 1015),\n",
       " (\"here's\", 999),\n",
       " ('2morow', 970),\n",
       " ('ahaha', 927),\n",
       " ('#squarespace', 925),\n",
       " ('urgh', 839),\n",
       " ('sux', 810),\n",
       " ('tomorow', 804),\n",
       " (\"father's\", 798),\n",
       " (\"they'l\", 793),\n",
       " (\"he'l\", 785),\n",
       " ('tmrw', 739),\n",
       " ('yey', 702),\n",
       " ('retwet', 679),\n",
       " ('<-', 653),\n",
       " ('woho', 639),\n",
       " ('probs', 633),\n",
       " ('bleh', 630),\n",
       " ('hayfever', 627),\n",
       " ('bestie', 626),\n",
       " (\"she'l\", 613),\n",
       " ('theyve', 602),\n",
       " ('->', 593),\n",
       " ('awsome', 588),\n",
       " (\"everyone's\", 583),\n",
       " ('omfg', 582),\n",
       " (\"friend's\", 575),\n",
       " ('proly', 573),\n",
       " ('hahahah', 565),\n",
       " ('damnit', 526),\n",
       " ('#iranelection', 514),\n",
       " (\"would've\", 504),\n",
       " (':-d', 504),\n",
       " ('twiterverse', 498),\n",
       " (\"g'night\", 494),\n",
       " (\"it'd\", 467),\n",
       " ('tbh', 443),\n",
       " (\"tomorow's\", 440),\n",
       " ('ahah', 425),\n",
       " ('lvat', 423)]"
      ]
     },
     "execution_count": 41,
     "metadata": {
      "tags": []
     },
     "output_type": "execute_result"
    },
    {
     "name": "stdout",
     "output_type": "stream",
     "text": [
      "time: 117 ms (started: 2021-04-30 04:21:35 +00:00)\n"
     ]
    }
   ],
   "source": [
    "from collections import Counter\n",
    "Counter(unks).most_common(50)"
   ]
  },
  {
   "cell_type": "markdown",
   "metadata": {
    "id": "ZnF6TR2-BsEc"
   },
   "source": [
    "Further optimizing the number of unknown words at this point would not be the best use of our time. As now we are left with a big number of minimally occuring words in the data. Thus, spending more time cleaning the data would result in a very little return on investment.\n",
    "\n",
    "Now, let's try to train our model on the newly generated *cleaner* data!"
   ]
  },
  {
   "cell_type": "markdown",
   "metadata": {
    "id": "JohI72T0E_s8"
   },
   "source": [
    "### Model Training - Cleaner Data"
   ]
  },
  {
   "cell_type": "code",
   "execution_count": 42,
   "metadata": {
    "colab": {
     "base_uri": "https://localhost:8080/"
    },
    "id": "iVdxOv4DE_U1",
    "outputId": "c2ae2db0-3fd1-4607-b55b-bda1e274ad07"
   },
   "outputs": [
    {
     "name": "stdout",
     "output_type": "stream",
     "text": [
      "Model: \"sequential\"\n",
      "_________________________________________________________________\n",
      "Layer (type)                 Output Shape              Param #   \n",
      "=================================================================\n",
      "embedding (Embedding)        (None, 25, 50)            20000100  \n",
      "_________________________________________________________________\n",
      "bidirectional (Bidirectional (None, 25, 256)           183296    \n",
      "_________________________________________________________________\n",
      "bidirectional_1 (Bidirection (None, 256)               394240    \n",
      "_________________________________________________________________\n",
      "dense (Dense)                (None, 1)                 257       \n",
      "=================================================================\n",
      "Total params: 20,577,893\n",
      "Trainable params: 577,793\n",
      "Non-trainable params: 20,000,100\n",
      "_________________________________________________________________\n",
      "time: 1.65 s (started: 2021-04-30 04:21:54 +00:00)\n"
     ]
    }
   ],
   "source": [
    "keras.backend.clear_session()\n",
    "\n",
    "model_clean_data = Sequential()\n",
    "\n",
    "model_clean_data.add(pretrained_embedding_layer(word_to_vec_map, word_to_index, max_len))\n",
    "model_clean_data.add(Bidirectional(LSTM(units=128, return_sequences=True)))\n",
    "model_clean_data.add(Bidirectional(LSTM(units=128, return_sequences=False)))\n",
    "model_clean_data.add(Dense(units=1, activation='sigmoid'))\n",
    "\n",
    "model_clean_data.summary()"
   ]
  },
  {
   "cell_type": "code",
   "execution_count": 43,
   "metadata": {
    "colab": {
     "base_uri": "https://localhost:8080/"
    },
    "id": "AEsJsNRYFk_r",
    "outputId": "bce18748-d9e8-40f9-d6a3-f7863de245af"
   },
   "outputs": [
    {
     "name": "stdout",
     "output_type": "stream",
     "text": [
      "time: 13.2 ms (started: 2021-04-30 04:22:18 +00:00)\n"
     ]
    }
   ],
   "source": [
    "model_clean_data.compile(loss='binary_crossentropy', optimizer='adam', metrics=['accuracy'])"
   ]
  },
  {
   "cell_type": "code",
   "execution_count": 44,
   "metadata": {
    "colab": {
     "base_uri": "https://localhost:8080/"
    },
    "id": "oOlkTTg4oRqR",
    "outputId": "c98623e2-466e-4fef-d6e8-3623a93a0206"
   },
   "outputs": [
    {
     "name": "stdout",
     "output_type": "stream",
     "text": [
      "time: 771 ms (started: 2021-04-30 04:22:19 +00:00)\n"
     ]
    }
   ],
   "source": [
    "X_train, X_test, Y_train, Y_test = train_test_split(X, Y, test_size=0.2, random_state=0, stratify=Y)"
   ]
  },
  {
   "cell_type": "code",
   "execution_count": 45,
   "metadata": {
    "colab": {
     "base_uri": "https://localhost:8080/"
    },
    "id": "CV11UMBUoRqS",
    "outputId": "82f2dc77-2315-4e32-b1e5-4034a6f8fc55"
   },
   "outputs": [
    {
     "data": {
      "text/plain": [
       "1272924"
      ]
     },
     "execution_count": 45,
     "metadata": {
      "tags": []
     },
     "output_type": "execute_result"
    },
    {
     "name": "stdout",
     "output_type": "stream",
     "text": [
      "time: 6.39 ms (started: 2021-04-30 04:22:21 +00:00)\n"
     ]
    }
   ],
   "source": [
    "len(X_train)"
   ]
  },
  {
   "cell_type": "code",
   "execution_count": 46,
   "metadata": {
    "colab": {
     "base_uri": "https://localhost:8080/"
    },
    "id": "L-1qwwjJoRqU",
    "outputId": "0b778b82-ad9b-458b-f86c-fcff1a5c44d0"
   },
   "outputs": [
    {
     "data": {
      "text/plain": [
       "318232"
      ]
     },
     "execution_count": 46,
     "metadata": {
      "tags": []
     },
     "output_type": "execute_result"
    },
    {
     "name": "stdout",
     "output_type": "stream",
     "text": [
      "time: 4.32 ms (started: 2021-04-30 04:22:22 +00:00)\n"
     ]
    }
   ],
   "source": [
    "len(X_test)"
   ]
  },
  {
   "cell_type": "code",
   "execution_count": 47,
   "metadata": {
    "colab": {
     "base_uri": "https://localhost:8080/"
    },
    "id": "wd2GaDFVFsgG",
    "outputId": "6bca8e05-ca63-4520-941b-9b0c74b486fd"
   },
   "outputs": [
    {
     "name": "stdout",
     "output_type": "stream",
     "text": [
      "Epoch 1/20\n",
      "9945/9945 [==============================] - 138s 13ms/step - loss: 0.5349 - accuracy: 0.7252 - val_loss: 0.4731 - val_accuracy: 0.7715\n",
      "Epoch 2/20\n",
      "9945/9945 [==============================] - 133s 13ms/step - loss: 0.4641 - accuracy: 0.7769 - val_loss: 0.4592 - val_accuracy: 0.7801\n",
      "Epoch 3/20\n",
      "9945/9945 [==============================] - 134s 13ms/step - loss: 0.4438 - accuracy: 0.7896 - val_loss: 0.4521 - val_accuracy: 0.7854\n",
      "Epoch 4/20\n",
      "9945/9945 [==============================] - 135s 14ms/step - loss: 0.4282 - accuracy: 0.7982 - val_loss: 0.4529 - val_accuracy: 0.7854\n",
      "Epoch 5/20\n",
      "9945/9945 [==============================] - 134s 13ms/step - loss: 0.4134 - accuracy: 0.8067 - val_loss: 0.4561 - val_accuracy: 0.7852\n",
      "Epoch 6/20\n",
      "9945/9945 [==============================] - 134s 14ms/step - loss: 0.3963 - accuracy: 0.8170 - val_loss: 0.4614 - val_accuracy: 0.7836\n",
      "Epoch 7/20\n",
      "9945/9945 [==============================] - 134s 13ms/step - loss: 0.3792 - accuracy: 0.8258 - val_loss: 0.4766 - val_accuracy: 0.7802\n",
      "Epoch 8/20\n",
      "9945/9945 [==============================] - 134s 13ms/step - loss: 0.3622 - accuracy: 0.8351 - val_loss: 0.4832 - val_accuracy: 0.7775\n",
      "Epoch 9/20\n",
      "9945/9945 [==============================] - 134s 13ms/step - loss: 0.3452 - accuracy: 0.8442 - val_loss: 0.4975 - val_accuracy: 0.7745\n",
      "Epoch 10/20\n",
      "9945/9945 [==============================] - 135s 14ms/step - loss: 0.3280 - accuracy: 0.8531 - val_loss: 0.5191 - val_accuracy: 0.7707\n",
      "Epoch 11/20\n",
      "9945/9945 [==============================] - 134s 13ms/step - loss: 0.3120 - accuracy: 0.8613 - val_loss: 0.5338 - val_accuracy: 0.7686\n",
      "Epoch 12/20\n",
      "9945/9945 [==============================] - 134s 13ms/step - loss: 0.2973 - accuracy: 0.8693 - val_loss: 0.5535 - val_accuracy: 0.7642\n",
      "Epoch 13/20\n",
      "9945/9945 [==============================] - 135s 14ms/step - loss: 0.2844 - accuracy: 0.8755 - val_loss: 0.5742 - val_accuracy: 0.7623\n",
      "Epoch 14/20\n",
      "9945/9945 [==============================] - 134s 13ms/step - loss: 0.2717 - accuracy: 0.8817 - val_loss: 0.5958 - val_accuracy: 0.7621\n",
      "Epoch 15/20\n",
      "9945/9945 [==============================] - 134s 13ms/step - loss: 0.2622 - accuracy: 0.8862 - val_loss: 0.6285 - val_accuracy: 0.7601\n",
      "Epoch 16/20\n",
      "9945/9945 [==============================] - 135s 14ms/step - loss: 0.2523 - accuracy: 0.8906 - val_loss: 0.6448 - val_accuracy: 0.7575\n",
      "Epoch 17/20\n",
      "9945/9945 [==============================] - 136s 14ms/step - loss: 0.2434 - accuracy: 0.8956 - val_loss: 0.6552 - val_accuracy: 0.7572\n",
      "Epoch 18/20\n",
      "9945/9945 [==============================] - 137s 14ms/step - loss: 0.2378 - accuracy: 0.8979 - val_loss: 0.6724 - val_accuracy: 0.7549\n",
      "Epoch 19/20\n",
      "9945/9945 [==============================] - 135s 14ms/step - loss: 0.2320 - accuracy: 0.9010 - val_loss: 0.6793 - val_accuracy: 0.7542\n",
      "Epoch 20/20\n",
      "9945/9945 [==============================] - 136s 14ms/step - loss: 0.2259 - accuracy: 0.9034 - val_loss: 0.7041 - val_accuracy: 0.7518\n",
      "time: 44min 54s (started: 2021-04-30 04:25:18 +00:00)\n"
     ]
    }
   ],
   "source": [
    "if device_name != '/device:GPU:0':\n",
    "  model_clean_data.fit(X_train, Y_train, validation_data=(X_test, Y_test), epochs = 20, batch_size = 128, shuffle=True)\n",
    "else: \n",
    "  with tf.device('/device:GPU:0'):\n",
    "    model_clean_data.fit(X_train, Y_train, validation_data=(X_test, Y_test), epochs = 20, batch_size = 128, shuffle=True)"
   ]
  },
  {
   "cell_type": "code",
   "execution_count": 48,
   "metadata": {
    "colab": {
     "base_uri": "https://localhost:8080/",
     "height": 590
    },
    "id": "NyWPetSA8ydg",
    "outputId": "48e53089-c0da-423d-a574-b024d628872c",
    "scrolled": false
   },
   "outputs": [
    {
     "data": {
      "image/png": "[encoded data removed]",
      "text/plain": [
       "<Figure size 432x288 with 1 Axes>"
      ]
     },
     "metadata": {
      "needs_background": "light",
      "tags": []
     },
     "output_type": "display_data"
    },
    {
     "data": {
      "image/png": "[encoded data removed]",
      "text/plain": [
       "<Figure size 432x288 with 1 Axes>"
      ]
     },
     "metadata": {
      "needs_background": "light",
      "tags": []
     },
     "output_type": "display_data"
    },
    {
     "name": "stdout",
     "output_type": "stream",
     "text": [
      "time: 388 ms (started: 2021-04-30 05:10:39 +00:00)\n"
     ]
    }
   ],
   "source": [
    "history = model_clean_data.history\n",
    "\n",
    "acc = history.history['accuracy']\n",
    "val_acc = history.history['val_accuracy']\n",
    "loss = history.history['loss']\n",
    "val_loss = history.history['val_loss']\n",
    "epochs = range(1, len(acc) + 1)\n",
    "\n",
    "plt.plot(epochs, acc, 'bo', label = 'Training Accuracy')\n",
    "plt.plot(epochs, val_acc, 'r', label = 'Validation Accuracy')\n",
    "plt.title('Training and Validation Accuracy')\n",
    "plt.xlabel('Epochs')\n",
    "plt.ylabel('Accuracy')\n",
    "plt.legend()\n",
    "y_arrow = max(val_acc)\n",
    "x_arrow = val_acc.index(y_arrow) + 1\n",
    "plt.annotate(str(y_arrow)[:6],\n",
    "             (x_arrow, y_arrow),\n",
    "             xytext=(x_arrow + 5, y_arrow + .02),\n",
    "             arrowprops=dict(facecolor='orange', shrink=0.05))\n",
    "plt.xticks(epochs)\n",
    "\n",
    "plt.figure()\n",
    "plt.plot(epochs, loss, 'bo', label = 'Training Loss')\n",
    "plt.plot(epochs, val_loss, 'r', label = 'Validation Loss')\n",
    "plt.title('Training and Validation Loss')\n",
    "plt.xlabel('Epochs')\n",
    "plt.ylabel('Loss')\n",
    "plt.legend()\n",
    "plt.xticks(epochs)\n",
    "plt.show()"
   ]
  },
  {
   "cell_type": "markdown",
   "metadata": {
    "id": "k-fA1sEDBsEe"
   },
   "source": [
    "The model managed to reach **78.4%** validation accuracy on the 5th epoch, which consider to be an improvement.\n",
    "\n",
    "Nonetheless, the over-fitting problem is still persistent in the model. This could be further reduced by introducing a more aggressive regularization and training the model for a much bigger number of epochs, and by also training the model on a bigger, more diverse, cleaner data."
   ]
  },
  {
   "cell_type": "markdown",
   "metadata": {
    "id": "q6IlyjsLBsEe"
   },
   "source": [
    "## 3.6. Predicting on Custom Data <a class=\"anchor\" id=\"head-3-6\"></a>"
   ]
  },
  {
   "cell_type": "markdown",
   "metadata": {
    "id": "HoZLMqsWBsEe"
   },
   "source": [
    "Now let’s testing our model on some custom data.\n",
    "\n",
    "This model will return values between 0 and 1, representing it’s confidence on whether a tweet holds a negative or a positive sentiment. The closer the value is to 0, the more confident the model is that this tweet is negative. The closer the value is to 1, the more confident the model is that this tweet is negative.\n"
   ]
  },
  {
   "cell_type": "code",
   "execution_count": 53,
   "metadata": {
    "colab": {
     "base_uri": "https://localhost:8080/"
    },
    "id": "SaBed-gTBsEe",
    "outputId": "60bc4af8-ef1d-48e9-debd-318737c32702"
   },
   "outputs": [
    {
     "name": "stdout",
     "output_type": "stream",
     "text": [
      "time: 12.7 ms (started: 2021-04-30 05:13:26 +00:00)\n"
     ]
    }
   ],
   "source": [
    "from nltk.tokenize import TweetTokenizer\n",
    "tk = TweetTokenizer(reduce_len=True)\n",
    "\n",
    "def sentence_to_indices(sentence_words, max_len):\n",
    "    X = np.zeros((max_len))\n",
    "    sentence_indices = []\n",
    "    for j, w in enumerate(sentence_words):\n",
    "        try:\n",
    "            index = word_to_index[w]\n",
    "        except:\n",
    "            w = cleared(w)\n",
    "            try:\n",
    "                index = word_to_index[w]\n",
    "            except:\n",
    "                index = word_to_index['unk']\n",
    "        X[j] = index\n",
    "    return X\n",
    "\n",
    "def predict_custom_tweet_sentiment(custom_tweet):\n",
    "    # Convert the tweet such that it can be fed to the model\n",
    "    x_input = sentence_to_indices(remove_noise(tk.tokenize(custom_tweet)), max_len)\n",
    "    \n",
    "    # Retrun the model's prediction\n",
    "    return model_clean_data.predict(np.array([x_input])).item()"
   ]
  },
  {
   "cell_type": "code",
   "execution_count": 54,
   "metadata": {
    "colab": {
     "base_uri": "https://localhost:8080/"
    },
    "id": "oyqOM0r7BsEf",
    "outputId": "37ed1cc4-5d9c-46b8-b968-8087bc20b377"
   },
   "outputs": [
    {
     "data": {
      "text/plain": [
       "0.9992701411247253"
      ]
     },
     "execution_count": 54,
     "metadata": {
      "tags": []
     },
     "output_type": "execute_result"
    },
    {
     "name": "stdout",
     "output_type": "stream",
     "text": [
      "time: 1.14 s (started: 2021-04-30 05:13:28 +00:00)\n"
     ]
    }
   ],
   "source": [
    "predict_custom_tweet_sentiment(\"I'm happy you're here!\")"
   ]
  },
  {
   "cell_type": "code",
   "execution_count": 55,
   "metadata": {
    "colab": {
     "base_uri": "https://localhost:8080/"
    },
    "id": "RqLtu26vBsEf",
    "outputId": "abe55111-2d5c-4c00-c18b-cd614d262e46"
   },
   "outputs": [
    {
     "data": {
      "text/plain": [
       "0.9953598380088806"
      ]
     },
     "execution_count": 55,
     "metadata": {
      "tags": []
     },
     "output_type": "execute_result"
    },
    {
     "name": "stdout",
     "output_type": "stream",
     "text": [
      "time: 44.2 ms (started: 2021-04-30 05:13:38 +00:00)\n"
     ]
    }
   ],
   "source": [
    "predict_custom_tweet_sentiment(\"I'm not happy you're here!\")"
   ]
  },
  {
   "cell_type": "code",
   "execution_count": 56,
   "metadata": {
    "colab": {
     "base_uri": "https://localhost:8080/"
    },
    "id": "l5ly9AfIBsEf",
    "outputId": "5046c948-6569-4f29-f4f5-d9a5ad3590f9"
   },
   "outputs": [
    {
     "data": {
      "text/plain": [
       "0.20939767360687256"
      ]
     },
     "execution_count": 56,
     "metadata": {
      "tags": []
     },
     "output_type": "execute_result"
    },
    {
     "name": "stdout",
     "output_type": "stream",
     "text": [
      "time: 50.5 ms (started: 2021-04-30 05:14:01 +00:00)\n"
     ]
    }
   ],
   "source": [
    "predict_custom_tweet_sentiment(\"I disliked his attitude...\")"
   ]
  },
  {
   "cell_type": "markdown",
   "metadata": {
    "id": "y8ZWcxN2BsEh"
   },
   "source": [
    "## 3.7. Inspecting Wrongly Predicted Data <a class=\"anchor\" id=\"head-3-7\"></a>"
   ]
  },
  {
   "cell_type": "markdown",
   "metadata": {
    "id": "Hq-H2IPhBsEh"
   },
   "source": [
    "Let's take a look at some of the wrongly classified data from the model."
   ]
  },
  {
   "cell_type": "code",
   "execution_count": 63,
   "metadata": {
    "colab": {
     "base_uri": "https://localhost:8080/"
    },
    "id": "a4D7HfxUQ4K2",
    "outputId": "86d8e2b6-bbb0-4952-e456-134fe4db82fb"
   },
   "outputs": [
    {
     "name": "stdout",
     "output_type": "stream",
     "text": [
      "time: 2.82 ms (started: 2021-04-30 05:17:22 +00:00)\n"
     ]
    }
   ],
   "source": [
    "def i_to_sentence(I):\n",
    "    sentence = \"\"\n",
    "    for i in I:\n",
    "        if i:\n",
    "            sentence += index_to_word[int(i)] + \" \"\n",
    "        else:\n",
    "            break\n",
    "    return sentence"
   ]
  },
  {
   "cell_type": "code",
   "execution_count": 64,
   "metadata": {
    "colab": {
     "base_uri": "https://localhost:8080/"
    },
    "id": "3brr15ME7NVz",
    "outputId": "a20ca282-3467-4b2b-9f5b-58cd6b5e83f5",
    "scrolled": false
   },
   "outputs": [
    {
     "name": "stdout",
     "output_type": "stream",
     "text": [
      "Expected sentiment: 1. Input: headache love morning \n",
      "Expected sentiment: 0. Input: hear hour work day cool \n",
      "Expected sentiment: 0. Input: dear web host please release site purgatory provide unk unk \n",
      "Expected sentiment: 0. Input: get away mp3 garbage dont people know mp3s sound like crap \n",
      "Expected sentiment: 1. Input: frustrate want eat get fat \n",
      "Expected sentiment: 1. Input: get talk bo super unk life haha julie \n",
      "Expected sentiment: 0. Input: twitter crackberry still no-go \n",
      "Expected sentiment: 0. Input: back vacation want disney world \n",
      "Expected sentiment: 1. Input: mean \n",
      "Expected sentiment: 1. Input: whats goin unk tell something good aint follow unk active unk \n",
      "Expected sentiment: 1. Input: photobucket time yes scar unk \n",
      "Expected sentiment: 0. Input: really point watch cedric die \n",
      "Expected sentiment: 1. Input: im get unk work today stay 1am tonight \n",
      "Expected sentiment: 1. Input: im sorry feel well genesis serpent take way calvary good \n",
      "Expected sentiment: 0. Input: zombieland trailer wait ... im see couple rock band tweet anything interesting \n",
      "Expected sentiment: 1. Input: spending even foot sofa ease pain back hip work something nice drink well think \n",
      "Expected sentiment: 0. Input: jeep dead school good day \n",
      "Expected sentiment: 1. Input: dunno friend guna stalk try meet unk need find hotel stay \n",
      "Expected sentiment: 0. Input: taps rock cant sleep i will watch \n",
      "Expected sentiment: 0. Input: yes take away special place beat head baseball bat \n",
      "Expected sentiment: 1. Input: would say ... crushed morning run \n",
      "Expected sentiment: 0. Input: cant see picture ... however draw background \n",
      "Expected sentiment: 1. Input: got maths exam hour im still bed \n",
      "Expected sentiment: 0. Input: nice house second practice \n",
      "Expected sentiment: 1. Input: back notts miss unk already \n",
      "Expected sentiment: 1. Input: yeah pray strong scorching heat summer unk \n",
      "Expected sentiment: 1. Input: cooking want pink potato salad right enjoy \n",
      "Expected sentiment: 1. Input: new header get thumb book kinda matchy blog picture \n",
      "Expected sentiment: 0. Input: returned center parcs last night cold back blame pool \n",
      "Expected sentiment: 0. Input: day plan still successful time bed know i will sun \n",
      "Expected sentiment: 1. Input: check twitter far ... \n",
      "Expected sentiment: 1. Input: rain ever know stil stand umbrella ella \n",
      "Expected sentiment: 1. Input: miss unk grabe ako unk nito haha unk nako legazpi \n",
      "Expected sentiment: 0. Input: kaled old lady lol \n",
      "Expected sentiment: 1. Input: saturday ... lame \n",
      "Expected sentiment: 1. Input: want experience snow suck \n",
      "Expected sentiment: 1. Input: back storm pass ... long \n",
      "Expected sentiment: 1. Input: outside read listen quale look car want bit \n",
      "Expected sentiment: 0. Input: great time last night blue unk rock ing yellow red suit pic come good love \n",
      "Expected sentiment: 1. Input: lol get bed anyone know \n",
      "Expected sentiment: 1. Input: expect food tease \n",
      "Expected sentiment: 1. Input: bit stable gas guess flame \n",
      "Expected sentiment: 0. Input: got book joey unk foundation check list bubbles escape ball \n",
      "Expected sentiment: 1. Input: tryin call remember dad always late never get trouble \n",
      "Expected sentiment: 1. Input: know always screw \n",
      "Expected sentiment: 1. Input: lazy day chore wait till tomorrow \n",
      "Expected sentiment: 1. Input: think thats cute glad day awful imagine would \n",
      "Expected sentiment: 0. Input: hate sorry unk big fan tell red carpet would unhappy \n",
      "Expected sentiment: 0. Input: unk cool unk back pune unk boring miss mumbai night party car sup wid \n",
      "Expected sentiment: 1. Input: keeping journal \n",
      "Expected sentiment: 0. Input: need new desktop thing suck borrow someone unk computer mine fast enough video \n",
      "Expected sentiment: 0. Input: luck must plugin issue \n",
      "Expected sentiment: 1. Input: taking opportunity get familiar friendfeed long block anyone take bet \n",
      "Expected sentiment: 1. Input: read dutch like look picture skip text \n",
      "Expected sentiment: 1. Input: get ready gig tonight guess actor always back magazine work tomorrow \n",
      "Expected sentiment: 1. Input: want watch spongebob right \n",
      "Expected sentiment: 1. Input: much \n",
      "Expected sentiment: 0. Input: think little rat haploid figure get water dispenser work ... tongue strong enough \n",
      "Expected sentiment: 0. Input: watch tonight show without jay leno sob sniff ... \n",
      "Expected sentiment: 1. Input: shutting night watch unk fall asleep \n",
      "Expected sentiment: 0. Input: morning twit another day ... long keep real \n",
      "Expected sentiment: 1. Input: maybe scar haha easy lagi ang tweetdeck \n",
      "Expected sentiment: 0. Input: new apartment \n",
      "Expected sentiment: 1. Input: mine \n",
      "Expected sentiment: 0. Input: really care anymore ... unk good day turn bad \n",
      "Expected sentiment: 1. Input: unk penny sweet actually cost \n",
      "Expected sentiment: 0. Input: play nice honk \n",
      "Expected sentiment: 1. Input: glad hear great time party damn want pony birthday kid ... pout \n",
      "Expected sentiment: 1. Input: madrid please tell demi cause want see \n",
      "Expected sentiment: 0. Input: want chip haha \n",
      "Expected sentiment: 0. Input: aww miss wild unk \n",
      "Expected sentiment: 0. Input: boyfriend cell phone know he is work sermon ... want say hey check rest day \n",
      "Expected sentiment: 1. Input: want get information poetry \n",
      "Expected sentiment: 1. Input: find earthquake twitter didnt feel one bit drive \n",
      "Expected sentiment: 0. Input: d'oh i will work edit editing ... \n",
      "Expected sentiment: 0. Input: good question really surprise answer that is still people think \n",
      "Expected sentiment: 0. Input: omg ... good news \n",
      "Expected sentiment: 0. Input: cuddle giant winnie pooh bear listen seether \n",
      "Expected sentiment: 0. Input: yes please safe ... \n",
      "Expected sentiment: 0. Input: agree gonna bite bullet update \n",
      "Expected sentiment: 1. Input: unk work oauth unk almost ready release \n",
      "Expected sentiment: 0. Input: every night \n",
      "Expected sentiment: 1. Input: birthday cumin dam i will \n",
      "Expected sentiment: 0. Input: 112 day leave states \n",
      "Expected sentiment: 0. Input: wanted lebron win ... im leave work good night everyone \n",
      "Expected sentiment: 1. Input: way early ... head marathon steph cheer man \n",
      "Expected sentiment: 0. Input: watch international ... somewhat unk \n",
      "Expected sentiment: 0. Input: sharepoint listen unk \n",
      "Expected sentiment: 1. Input: yeah want move london study english still 18:33 ... early \n",
      "Expected sentiment: 0. Input: unk hotel ahd get cook frm kerala ... specially prepare bdf today beer miss though volga \n",
      "Expected sentiment: 0. Input: im bit unk shinee perform song sooo short ss501 awesome \n",
      "Expected sentiment: 0. Input: true \n",
      "Expected sentiment: 0. Input: katie rather play knuckle work though plan anything \n",
      "Expected sentiment: 1. Input: im enjoy day brother father see eagles they are playing hometown today \n",
      "Expected sentiment: 1. Input: back marwell zoo expensive lovely day unk favorite elephant odd cos \n",
      "Expected sentiment: 0. Input: im proud you die vid time ... still teach \n",
      "Expected sentiment: 1. Input: im jealous unk witness amazing tour atm haha soo good \n",
      "Expected sentiment: 1. Input: france unk days ahhh pack ready gonna miss load people especially family unk \n",
      "Expected sentiment: 1. Input: would could hard without firefox plug-in unk release \n",
      "Expected sentiment: 1. Input: still chase deadline dragon rainbow \n",
      "Expected sentiment: 1. Input: riesling rock \n",
      "time: 40.9 s (started: 2021-04-30 05:17:23 +00:00)\n"
     ]
    }
   ],
   "source": [
    "C = 0\n",
    "\n",
    "pred = model_clean_data.predict(X_test)\n",
    "\n",
    "for i in range(len(X_test)):\n",
    "    final_pred = 1 if pred[i] > 0.5 else 0\n",
    "    \n",
    "    if(final_pred != Y_test[i]):\n",
    "        print('Expected sentiment: ' + str(int(Y_test[i])) + '. Input: ' + i_to_sentence(X_test[i]))\n",
    "        C += 1\n",
    "        \n",
    "    if C > 100:\n",
    "        break"
   ]
  },
  {
   "cell_type": "markdown",
   "metadata": {
    "id": "2Dv2qeWKBsEi"
   },
   "source": [
    "Skimming through the above output, we can \"understand\" why the model wouldn't properly classify several examples. Some examples seem wrongly labeled in the first place, whereas some other examples are really hard to classify without further context.\n",
    "\n",
    "So all in all, I would say that our current model is relatively robust in classifying the sentiment in a given sentence!"
   ]
  },
  {
   "cell_type": "markdown",
   "metadata": {
    "id": "mXhRIAQ1BsEi"
   },
   "source": [
    "# 4. Saving the model <a class=\"anchor\" id=\"head-4\"></a>"
   ]
  },
  {
   "cell_type": "code",
   "execution_count": 65,
   "metadata": {
    "colab": {
     "base_uri": "https://localhost:8080/"
    },
    "id": "rx7inFPEBsEi",
    "outputId": "a38587fc-fc83-41b5-b4c2-b93fa8f38c61"
   },
   "outputs": [
    {
     "name": "stderr",
     "output_type": "stream",
     "text": [
      "WARNING:absl:Found untraced functions such as lstm_cell_1_layer_call_and_return_conditional_losses, lstm_cell_1_layer_call_fn, lstm_cell_2_layer_call_and_return_conditional_losses, lstm_cell_2_layer_call_fn, lstm_cell_4_layer_call_and_return_conditional_losses while saving (showing 5 of 20). These functions will not be directly callable after loading.\n",
      "WARNING:absl:Found untraced functions such as lstm_cell_1_layer_call_and_return_conditional_losses, lstm_cell_1_layer_call_fn, lstm_cell_2_layer_call_and_return_conditional_losses, lstm_cell_2_layer_call_fn, lstm_cell_4_layer_call_and_return_conditional_losses while saving (showing 5 of 20). These functions will not be directly callable after loading.\n"
     ]
    },
    {
     "name": "stdout",
     "output_type": "stream",
     "text": [
      "INFO:tensorflow:Assets written to: best_lstm/assets\n"
     ]
    },
    {
     "name": "stderr",
     "output_type": "stream",
     "text": [
      "INFO:tensorflow:Assets written to: best_lstm/assets\n"
     ]
    },
    {
     "name": "stdout",
     "output_type": "stream",
     "text": [
      "time: 19.4 s (started: 2021-04-30 05:19:56 +00:00)\n"
     ]
    }
   ],
   "source": [
    "model_clean_data.save(\"best_lstm\")"
   ]
  },
  {
   "cell_type": "markdown",
   "metadata": {
    "id": "WBcKLA8lBsEj"
   },
   "source": [
    "# 5. Further Work <a class=\"anchor\" id=\"head-5\"></a>"
   ]
  },
  {
   "cell_type": "markdown",
   "metadata": {
    "id": "X3FGb_bXBsEj"
   },
   "source": [
    "* Further data cleaning and relabelling. As the data origin is from twitter, it is expected to contain a wide range of not \"official\" english words, so data cleaning is crucial in such a scenario. Furthermore, as the data labelling has been done automatically based on the reactions of the tweet, this labelling is by no means perfect and a human re-labelling of the whole data would certainly be beneficial.\n",
    "* Introduce a neutral class, transforming the problem to a multi-class classification problem.\n",
    "* Try out several other word embeddings or model architectures.\n",
    "* Augment the data by diversifying it in order to make the model more robust, especially against sarcasm."
   ]
  }
 ],
 "metadata": {
  "accelerator": "GPU",
  "colab": {
   "collapsed_sections": [
    "eYm8_kxsBsEF",
    "-75hRPzDBsEI",
    "iyg4jMeuBsEL",
    "RtOJJJgvBsEL",
    "dZNWIcjnBsEO",
    "8-swnO_4BsEP",
    "SruQpFFMBsEQ",
    "ZBUuwm8kBsEV"
   ],
   "name": "Modeling.ipynb",
   "provenance": []
  },
  "kernelspec": {
   "display_name": "Python 3",
   "language": "python",
   "name": "python3"
  },
  "language_info": {
   "codemirror_mode": {
    "name": "ipython",
    "version": 3
   },
   "file_extension": ".py",
   "mimetype": "text/x-python",
   "name": "python",
   "nbconvert_exporter": "python",
   "pygments_lexer": "ipython3",
   "version": "3.7.3"
  }
 },
 "nbformat": 4,
 "nbformat_minor": 1
}
